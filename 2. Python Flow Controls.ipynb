{
 "cells": [
  {
   "cell_type": "markdown",
   "id": "da877ecc",
   "metadata": {},
   "source": [
    "## PYTHON FLOW CONTROL\n",
    "1. Flow control decides the order in which the code executed.\n",
    "2. Flow controls are conditional statements, loops ad function calls."
   ]
  },
  {
   "cell_type": "markdown",
   "id": "1cdb29c8",
   "metadata": {},
   "source": [
    "## CONDITIONAL STATEMENTS\n",
    "1. It executes the code according to the satisfied conditions.\n",
    "\n",
    "`\n",
    "if condition:\n",
    "    statements\n",
    "elif condition:\n",
    "    statements\n",
    "else:\n",
    "    statements\n",
    "`\n",
    "\n",
    "2. In the above part of code, the either one of the condition should be true in order to the statements to be executed. \n",
    "3. There can be zero or more elif (else if) statements.\n",
    "4. else part is optional, if needed you can add that or just ignore that."
   ]
  },
  {
   "cell_type": "code",
   "execution_count": 1,
   "id": "3ed299f7",
   "metadata": {},
   "outputs": [
    {
     "name": "stdout",
     "output_type": "stream",
     "text": [
      "Enter the mark67\n",
      "Grade C\n"
     ]
    }
   ],
   "source": [
    "#example for if statements:\n",
    "mark = int(input(\"Enter the mark\"))\n",
    "#if you want to check one condtion, you can use if statement part only.\n",
    "if mark >= 90: # '>=' is a relational operator(>,<,>=,<=,==,!=)\n",
    "    print (\"Grade A\")\n",
    "#for checking multiple conditions, use elif\n",
    "elif mark >= 70 and mark <= 89: # 'and' is a logical operator, other logical operators are 'or' ,'not'\n",
    "    print (\"Grade B\")\n",
    "elif mark >= 50 and mark <= 69: \n",
    "    print (\"Grade C\")\n",
    "else:\n",
    "    print(\"Fail\")\n",
    "    "
   ]
  },
  {
   "cell_type": "markdown",
   "id": "80dd4dee",
   "metadata": {},
   "source": [
    "## ITERATING STATEMENTS:"
   ]
  },
  {
   "cell_type": "markdown",
   "id": "0fb2f57e",
   "metadata": {},
   "source": [
    "### FOR LOOP:\n",
    "1. In python the for loop not only iterate over numeric progression, It also iterate over the items of list or string.\n",
    "2. For numeric iteration, the for loop uses `range(start,stop,step)` function.\n",
    "3. start - gives the start value\n",
    "4. stop - stop value\n",
    "5. step - increment ot decrement value.\n",
    "\n",
    "Before seeing for loop, first check the `range()` function."
   ]
  },
  {
   "cell_type": "markdown",
   "id": "22d8ec2e",
   "metadata": {},
   "source": [
    "\n",
    "In the range function we can provide start value, stop value and step value.\n",
    "stop value is the must even if you don't give start and step value because \n",
    "it will take start value as 0 \n",
    "and step value as 1 by default\n"
   ]
  },
  {
   "cell_type": "code",
   "execution_count": 2,
   "id": "715f0b8e",
   "metadata": {},
   "outputs": [
    {
     "name": "stdout",
     "output_type": "stream",
     "text": [
      "range(1, 5)\n"
     ]
    }
   ],
   "source": [
    "#example\n",
    "print (range(1,5,1))"
   ]
  },
  {
   "cell_type": "code",
   "execution_count": 3,
   "id": "44c9a017",
   "metadata": {},
   "outputs": [
    {
     "data": {
      "text/plain": [
       "[1, 2, 3, 4]"
      ]
     },
     "execution_count": 3,
     "metadata": {},
     "output_type": "execute_result"
    }
   ],
   "source": [
    "list(range(1,5,1)) #list() used to convert the values into a list."
   ]
  },
  {
   "cell_type": "code",
   "execution_count": 4,
   "id": "5065dc70",
   "metadata": {},
   "outputs": [
    {
     "data": {
      "text/plain": [
       "[0, 1, 2, 3, 4]"
      ]
     },
     "execution_count": 4,
     "metadata": {},
     "output_type": "execute_result"
    }
   ],
   "source": [
    "list(range(5))"
   ]
  },
  {
   "cell_type": "code",
   "execution_count": 5,
   "id": "9680475f",
   "metadata": {},
   "outputs": [
    {
     "data": {
      "text/plain": [
       "[1, 3, 5, 7, 9]"
      ]
     },
     "execution_count": 5,
     "metadata": {},
     "output_type": "execute_result"
    }
   ],
   "source": [
    "list(range(1,10,2))"
   ]
  },
  {
   "cell_type": "code",
   "execution_count": 7,
   "id": "7c0327db",
   "metadata": {},
   "outputs": [
    {
     "data": {
      "text/plain": [
       "[10, 9, 8, 7, 6, 5, 4, 3, 2, 1]"
      ]
     },
     "execution_count": 7,
     "metadata": {},
     "output_type": "execute_result"
    }
   ],
   "source": [
    "list(range(10,0,-1))"
   ]
  },
  {
   "cell_type": "markdown",
   "id": "b70259a3",
   "metadata": {},
   "source": [
    "Example for `for loop iterating over list items and string items:`"
   ]
  },
  {
   "cell_type": "code",
   "execution_count": 8,
   "id": "3d08f0a5",
   "metadata": {},
   "outputs": [
    {
     "name": "stdout",
     "output_type": "stream",
     "text": [
      "M\n",
      "a\n",
      "x\n",
      "w\n",
      "e\n",
      "l\n",
      "l\n"
     ]
    }
   ],
   "source": [
    "first_name = \"Maxwell\"\n",
    "for item in first_name: #item is a variable which is used to iterate over a sequence\n",
    "    print (item)"
   ]
  },
  {
   "cell_type": "code",
   "execution_count": 9,
   "id": "71c7f80c",
   "metadata": {},
   "outputs": [
    {
     "name": "stdout",
     "output_type": "stream",
     "text": [
      "orange\n",
      "apple\n",
      "grapes\n",
      "strawberry\n"
     ]
    }
   ],
   "source": [
    "list1 = ['orange','apple','grapes','strawberry']\n",
    "for fruit in list1: #fruit is a variable which is used to iterate over a sequence\n",
    "    print (fruit)"
   ]
  },
  {
   "cell_type": "markdown",
   "id": "98a59aa6",
   "metadata": {},
   "source": [
    "Example for `for loop using range() function`"
   ]
  },
  {
   "cell_type": "code",
   "execution_count": 11,
   "id": "da31ada6",
   "metadata": {},
   "outputs": [
    {
     "name": "stdout",
     "output_type": "stream",
     "text": [
      "1\n",
      "3\n",
      "5\n",
      "7\n",
      "9\n"
     ]
    }
   ],
   "source": [
    "for i in range(1,10,2): #print odd number. i is a variable to iterate and store the value.\n",
    "    print(i)"
   ]
  },
  {
   "cell_type": "markdown",
   "id": "adde7648",
   "metadata": {},
   "source": [
    "The looping statements can be used to run a few codes multiple times if needed. lets take the example student mark used in if condition. if you want to find the grade for multiple students, then you can looping(either for loop or while loop).\n",
    "Lets check the example with for loop."
   ]
  },
  {
   "cell_type": "code",
   "execution_count": 12,
   "id": "14e6c7c2",
   "metadata": {},
   "outputs": [
    {
     "name": "stdout",
     "output_type": "stream",
     "text": [
      "Enter roll no: 101\n",
      "Enter the mark: 56\n",
      "Grade C\n",
      "Enter roll no: 102\n",
      "Enter the mark: 98\n",
      "Grade A\n",
      "Enter roll no: 103\n",
      "Enter the mark: 45\n",
      "Fail\n",
      "Enter roll no: 104\n",
      "Enter the mark: 78\n",
      "Grade B\n",
      "Enter roll no: 105\n",
      "Enter the mark: 67\n",
      "Grade C\n"
     ]
    }
   ],
   "source": [
    "#this loop will run for 5 times from 0 to 4\n",
    "for i in range(5):#checking grade for 5 students\n",
    "    roll_no = input(\"Enter roll no: \")\n",
    "    mark = int(input(\"Enter the mark: \"))\n",
    "    #if you want to check one condtion, you can use if statement part only.\n",
    "    if mark >= 90: # '>=' is a relational operator(>,<,>=,<=,==,!=)\n",
    "        print (\"Grade A\")\n",
    "    #for checking multiple conditions, use elif\n",
    "    elif mark >= 70 and mark <= 89: # 'and' is a logical operator, other logical operators are 'or' ,'not'\n",
    "        print (\"Grade B\")\n",
    "    elif mark >= 50 and mark <= 69: \n",
    "        print (\"Grade C\")\n",
    "    else:\n",
    "        print(\"Fail\")"
   ]
  },
  {
   "cell_type": "markdown",
   "id": "19c01dc8",
   "metadata": {},
   "source": [
    "### WHILE LOOP:"
   ]
  },
  {
   "cell_type": "markdown",
   "id": "6d53f743",
   "metadata": {},
   "source": [
    "The above example for `for loop` can be used with while loop also. In while loop we don't use range() function.\n",
    "\n",
    "Here we will first initialise the variable and then use it in the while loop.\n",
    "\n",
    "`\n",
    "variable initialize\n",
    "while condition:\n",
    "    statement\n",
    "    increment operator`\n",
    "    \n",
    "\n",
    "The statement in the while loop will be executing continuously until the condition becomes false.\n",
    "Let's check the above example with while loop."
   ]
  },
  {
   "cell_type": "code",
   "execution_count": 17,
   "id": "c865d891",
   "metadata": {},
   "outputs": [
    {
     "name": "stdout",
     "output_type": "stream",
     "text": [
      "Enter roll no: 101\n",
      "Enter the mark: 45\n",
      "Fail\n",
      "Enter roll no: 102\n",
      "Enter the mark: 56\n",
      "Grade C\n",
      "Enter roll no: 103\n",
      "Enter the mark: 67\n",
      "Grade C\n",
      "Enter roll no: 104\n",
      "Enter the mark: 78\n",
      "Grade B\n",
      "Enter roll no: 105\n",
      "Enter the mark: 90\n",
      "Grade A\n"
     ]
    }
   ],
   "source": [
    "#variable initialization\n",
    "i=0\n",
    "while(i<5):\n",
    "    roll_no = input(\"Enter roll no: \")\n",
    "    mark = int(input(\"Enter the mark: \"))\n",
    "    #if you want to check one condtion, you can use if statement part only.\n",
    "    if mark >= 90: # '>=' is a relational operator(>,<,>=,<=,==,!=)\n",
    "        print (\"Grade A\")\n",
    "    #for checking multiple conditions, use elif\n",
    "    elif mark >= 70 and mark <= 89: # 'and' is a logical operator, other logical operators are 'or' ,'not'\n",
    "        print (\"Grade B\")\n",
    "    elif mark >= 50 and mark <= 69: \n",
    "        print (\"Grade C\")\n",
    "    else:\n",
    "        print(\"Fail\")\n",
    "    i=i+1 #increments the variable i"
   ]
  },
  {
   "cell_type": "markdown",
   "id": "c1764e13",
   "metadata": {},
   "source": [
    "### break and continue statements, else statement in loop:\n",
    "1. `break` statement is used to break the loop which means it will terminate the execution of the loop and exit the loop.\n",
    "2. `continue`statement will skip the iteration and continue the next itertion of the loop\n",
    "3. `else` statement in the loop will run when the loop conditions becomes false and will not execute when the break statement terminate the loop.\n",
    "Let's check with example"
   ]
  },
  {
   "cell_type": "code",
   "execution_count": 1,
   "id": "847b0f63",
   "metadata": {},
   "outputs": [
    {
     "name": "stdout",
     "output_type": "stream",
     "text": [
      "0\n",
      "1\n",
      "2\n"
     ]
    }
   ],
   "source": [
    "#break statement example\n",
    "for i in range(0,5,1):\n",
    "    if i==3:\n",
    "        break\n",
    "    print(i)"
   ]
  },
  {
   "cell_type": "code",
   "execution_count": 2,
   "id": "d4790146",
   "metadata": {},
   "outputs": [
    {
     "name": "stdout",
     "output_type": "stream",
     "text": [
      "0\n",
      "1\n",
      "2\n",
      "4\n"
     ]
    }
   ],
   "source": [
    "#continue statement example\n",
    "for i in range(0,5,1):\n",
    "    if i==3:\n",
    "        continue #skip the iteration 3 and move to \n",
    "    print(i)"
   ]
  },
  {
   "cell_type": "code",
   "execution_count": 3,
   "id": "81d70f01",
   "metadata": {},
   "outputs": [
    {
     "name": "stdout",
     "output_type": "stream",
     "text": [
      "0\n",
      "1\n",
      "2\n",
      "3\n",
      "4\n",
      "Loop terminated\n"
     ]
    }
   ],
   "source": [
    "#else statemet example:\n",
    "for i in range(0,5,1):\n",
    "    print(i)\n",
    "else:\n",
    "    print(\"Loop terminated\")"
   ]
  },
  {
   "cell_type": "code",
   "execution_count": 4,
   "id": "f21f967c",
   "metadata": {},
   "outputs": [
    {
     "name": "stdout",
     "output_type": "stream",
     "text": [
      "0\n",
      "1\n",
      "2\n"
     ]
    }
   ],
   "source": [
    "#else with break:\n",
    "for i in range(0,5,1):\n",
    "    if i==3:\n",
    "        break\n",
    "    print(i)\n",
    "else:\n",
    "    print(\"Loop terminated\")"
   ]
  },
  {
   "cell_type": "code",
   "execution_count": 5,
   "id": "85b9cb7b",
   "metadata": {},
   "outputs": [
    {
     "name": "stdout",
     "output_type": "stream",
     "text": [
      "0\n",
      "1\n",
      "2\n",
      "4\n",
      "Loop terminated\n"
     ]
    }
   ],
   "source": [
    "#else with continue:\n",
    "for i in range(0,5,1):\n",
    "    if i==3:\n",
    "        continue\n",
    "    print(i)\n",
    "else:\n",
    "    print(\"Loop terminated\")"
   ]
  },
  {
   "cell_type": "markdown",
   "id": "6403fdd5",
   "metadata": {},
   "source": [
    "You can also use the above three(break,continue,else) in the while loop also."
   ]
  },
  {
   "cell_type": "code",
   "execution_count": null,
   "id": "58785e75",
   "metadata": {},
   "outputs": [],
   "source": []
  }
 ],
 "metadata": {
  "kernelspec": {
   "display_name": "Python 3 (ipykernel)",
   "language": "python",
   "name": "python3"
  },
  "language_info": {
   "codemirror_mode": {
    "name": "ipython",
    "version": 3
   },
   "file_extension": ".py",
   "mimetype": "text/x-python",
   "name": "python",
   "nbconvert_exporter": "python",
   "pygments_lexer": "ipython3",
   "version": "3.8.8"
  },
  "latex_envs": {
   "LaTeX_envs_menu_present": true,
   "autoclose": false,
   "autocomplete": true,
   "bibliofile": "biblio.bib",
   "cite_by": "apalike",
   "current_citInitial": 1,
   "eqLabelWithNumbers": true,
   "eqNumInitial": 1,
   "hotkeys": {
    "equation": "Ctrl-E",
    "itemize": "Ctrl-I"
   },
   "labels_anchors": false,
   "latex_user_defs": false,
   "report_style_numbering": false,
   "user_envs_cfg": false
  },
  "toc": {
   "base_numbering": 1,
   "nav_menu": {},
   "number_sections": true,
   "sideBar": true,
   "skip_h1_title": false,
   "title_cell": "Table of Contents",
   "title_sidebar": "Contents",
   "toc_cell": false,
   "toc_position": {},
   "toc_section_display": true,
   "toc_window_display": false
  }
 },
 "nbformat": 4,
 "nbformat_minor": 5
}
