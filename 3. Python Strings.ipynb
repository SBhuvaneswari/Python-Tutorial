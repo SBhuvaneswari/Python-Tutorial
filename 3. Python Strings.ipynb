{
 "cells": [
  {
   "cell_type": "markdown",
   "id": "08b60564",
   "metadata": {},
   "source": [
    "## PYTHON STRINGS\n",
    "1. Python strings are immutable which means once created it cannot be changed.\n",
    "2. If you want to change the string then create a \"new\" string.\n",
    "3. String will enclosed in single or double quotes\n",
    "4. Multi line string will be enclosed in `'''` or `\"\"\"`\n",
    "5. string can be accessed using `[]` and python uses zero based index so the index of the starting value of the string is `zero`\n",
    "6. Anything can be converted to string by using the method `str()`\n",
    "7. Example for string"
   ]
  },
  {
   "cell_type": "markdown",
   "id": "1bd13b49",
   "metadata": {},
   "source": [
    "### String slices"
   ]
  },
  {
   "cell_type": "code",
   "execution_count": 1,
   "id": "4586dd85",
   "metadata": {},
   "outputs": [
    {
     "name": "stdout",
     "output_type": "stream",
     "text": [
      "Hello world\n"
     ]
    }
   ],
   "source": [
    "str1=\"Hello world\"\n",
    "print(str1)"
   ]
  },
  {
   "cell_type": "code",
   "execution_count": 2,
   "id": "c1524b37",
   "metadata": {},
   "outputs": [
    {
     "name": "stdout",
     "output_type": "stream",
     "text": [
      "H\n"
     ]
    }
   ],
   "source": [
    "print(str1[0])"
   ]
  },
  {
   "cell_type": "code",
   "execution_count": 3,
   "id": "caa20959",
   "metadata": {},
   "outputs": [
    {
     "name": "stdout",
     "output_type": "stream",
     "text": [
      "o\n"
     ]
    }
   ],
   "source": [
    "print(str1[4])"
   ]
  },
  {
   "cell_type": "code",
   "execution_count": 4,
   "id": "311dd754",
   "metadata": {},
   "outputs": [
    {
     "name": "stdout",
     "output_type": "stream",
     "text": [
      "Hello w\n"
     ]
    }
   ],
   "source": [
    "#str1[start:end]\n",
    "print(str1[0:7])#space also included when indexing"
   ]
  },
  {
   "cell_type": "code",
   "execution_count": 5,
   "id": "782139e9",
   "metadata": {},
   "outputs": [
    {
     "name": "stdout",
     "output_type": "stream",
     "text": [
      "H\te\tl\tl\to\t \tw\to\tr\tl\td\t"
     ]
    }
   ],
   "source": [
    "for i in range(len(str1)): #len() returns length of the string or list or tuple etc\n",
    "    print(str1[i], end=\"\\t\")"
   ]
  },
  {
   "cell_type": "code",
   "execution_count": 31,
   "id": "7b4ecf48",
   "metadata": {},
   "outputs": [
    {
     "name": "stdout",
     "output_type": "stream",
     "text": [
      "!\n",
      "d\n",
      "l\n"
     ]
    }
   ],
   "source": [
    "print(str1[-1]) #denotes last value\n",
    "print(str1[-2])\n",
    "print(str1[-3])"
   ]
  },
  {
   "cell_type": "code",
   "execution_count": 32,
   "id": "eed54901",
   "metadata": {},
   "outputs": [
    {
     "name": "stdout",
     "output_type": "stream",
     "text": [
      "rld!\n"
     ]
    }
   ],
   "source": [
    "print(str1[-4:])"
   ]
  },
  {
   "cell_type": "code",
   "execution_count": 33,
   "id": "6b061337",
   "metadata": {},
   "outputs": [
    {
     "name": "stdout",
     "output_type": "stream",
     "text": [
      "o world!\n"
     ]
    }
   ],
   "source": [
    "print(str1[4:])"
   ]
  },
  {
   "cell_type": "markdown",
   "id": "90108100",
   "metadata": {},
   "source": [
    "### String methods"
   ]
  },
  {
   "cell_type": "code",
   "execution_count": 6,
   "id": "c5c70bf5",
   "metadata": {},
   "outputs": [],
   "source": [
    "str1=\"hello world!\""
   ]
  },
  {
   "cell_type": "code",
   "execution_count": 7,
   "id": "6011f470",
   "metadata": {},
   "outputs": [
    {
     "data": {
      "text/plain": [
       "'HELLO WORLD!'"
      ]
     },
     "execution_count": 7,
     "metadata": {},
     "output_type": "execute_result"
    }
   ],
   "source": [
    "str1.upper()"
   ]
  },
  {
   "cell_type": "code",
   "execution_count": 8,
   "id": "c676cd26",
   "metadata": {},
   "outputs": [
    {
     "data": {
      "text/plain": [
       "'hello world!'"
      ]
     },
     "execution_count": 8,
     "metadata": {},
     "output_type": "execute_result"
    }
   ],
   "source": [
    "str1.lower()"
   ]
  },
  {
   "cell_type": "code",
   "execution_count": 10,
   "id": "89a2fb81",
   "metadata": {},
   "outputs": [
    {
     "data": {
      "text/plain": [
       "4"
      ]
     },
     "execution_count": 10,
     "metadata": {},
     "output_type": "execute_result"
    }
   ],
   "source": [
    "str1.find('o') #find the first letter which matches and returns the index value"
   ]
  },
  {
   "cell_type": "code",
   "execution_count": 11,
   "id": "15558ad7",
   "metadata": {},
   "outputs": [
    {
     "data": {
      "text/plain": [
       "'helli wirld!'"
      ]
     },
     "execution_count": 11,
     "metadata": {},
     "output_type": "execute_result"
    }
   ],
   "source": [
    "str1.replace('o','i')"
   ]
  },
  {
   "cell_type": "code",
   "execution_count": 12,
   "id": "e567c0b4",
   "metadata": {},
   "outputs": [
    {
     "data": {
      "text/plain": [
       "'hello'"
      ]
     },
     "execution_count": 12,
     "metadata": {},
     "output_type": "execute_result"
    }
   ],
   "source": [
    "str2=\" hello \"\n",
    "#remove the white space from the start and the end from the string using strip().\n",
    "str2.strip()"
   ]
  },
  {
   "cell_type": "code",
   "execution_count": 13,
   "id": "d7a9ac85",
   "metadata": {},
   "outputs": [
    {
     "data": {
      "text/plain": [
       "' hello'"
      ]
     },
     "execution_count": 13,
     "metadata": {},
     "output_type": "execute_result"
    }
   ],
   "source": [
    "str2.rstrip() #remove right side whitespace"
   ]
  },
  {
   "cell_type": "code",
   "execution_count": 14,
   "id": "c7fb8d0a",
   "metadata": {},
   "outputs": [
    {
     "data": {
      "text/plain": [
       "'hello '"
      ]
     },
     "execution_count": 14,
     "metadata": {},
     "output_type": "execute_result"
    }
   ],
   "source": [
    "str2.lstrip() #remove left side white space"
   ]
  },
  {
   "cell_type": "code",
   "execution_count": 16,
   "id": "0bdc1c81",
   "metadata": {},
   "outputs": [
    {
     "data": {
      "text/plain": [
       "['hi,', 'how', 'are', 'you?']"
      ]
     },
     "execution_count": 16,
     "metadata": {},
     "output_type": "execute_result"
    }
   ],
   "source": [
    "str3=\"hi, how are you?\"\n",
    "str3.split(\" \") #split the string using the demiliter inside the function. here demiliter is \"space( )\""
   ]
  },
  {
   "cell_type": "code",
   "execution_count": 20,
   "id": "87c7f305",
   "metadata": {},
   "outputs": [
    {
     "data": {
      "text/plain": [
       "'welcome to python tutorial'"
      ]
     },
     "execution_count": 20,
     "metadata": {},
     "output_type": "execute_result"
    }
   ],
   "source": [
    "str4=\"hi\"\n",
    "str4.join([\"welcome to python tutorial\"])"
   ]
  },
  {
   "cell_type": "markdown",
   "id": "105ef96b",
   "metadata": {},
   "source": [
    "##### Check whether the string is alphabets,alphanumeric, digit, decimal etc"
   ]
  },
  {
   "cell_type": "code",
   "execution_count": 21,
   "id": "170a494b",
   "metadata": {},
   "outputs": [
    {
     "data": {
      "text/plain": [
       "True"
      ]
     },
     "execution_count": 21,
     "metadata": {},
     "output_type": "execute_result"
    }
   ],
   "source": [
    "\"hello\".isalpha()"
   ]
  },
  {
   "cell_type": "code",
   "execution_count": 22,
   "id": "0f691f63",
   "metadata": {},
   "outputs": [
    {
     "data": {
      "text/plain": [
       "True"
      ]
     },
     "execution_count": 22,
     "metadata": {},
     "output_type": "execute_result"
    }
   ],
   "source": [
    "\"123\".isdigit()"
   ]
  },
  {
   "cell_type": "code",
   "execution_count": 23,
   "id": "6a01f47b",
   "metadata": {},
   "outputs": [
    {
     "data": {
      "text/plain": [
       "False"
      ]
     },
     "execution_count": 23,
     "metadata": {},
     "output_type": "execute_result"
    }
   ],
   "source": [
    "\"123\".isalpha()"
   ]
  },
  {
   "cell_type": "code",
   "execution_count": 24,
   "id": "8aa82807",
   "metadata": {},
   "outputs": [
    {
     "data": {
      "text/plain": [
       "True"
      ]
     },
     "execution_count": 24,
     "metadata": {},
     "output_type": "execute_result"
    }
   ],
   "source": [
    "\"abc123\".isalnum()"
   ]
  },
  {
   "cell_type": "code",
   "execution_count": 25,
   "id": "5f9e6d9e",
   "metadata": {},
   "outputs": [
    {
     "data": {
      "text/plain": [
       "True"
      ]
     },
     "execution_count": 25,
     "metadata": {},
     "output_type": "execute_result"
    }
   ],
   "source": [
    "\"hello\".islower()"
   ]
  },
  {
   "cell_type": "code",
   "execution_count": 26,
   "id": "56bd7844",
   "metadata": {},
   "outputs": [
    {
     "data": {
      "text/plain": [
       "True"
      ]
     },
     "execution_count": 26,
     "metadata": {},
     "output_type": "execute_result"
    }
   ],
   "source": [
    "\"HELLO\".isupper()"
   ]
  },
  {
   "cell_type": "code",
   "execution_count": 27,
   "id": "459d2879",
   "metadata": {},
   "outputs": [
    {
     "data": {
      "text/plain": [
       "False"
      ]
     },
     "execution_count": 27,
     "metadata": {},
     "output_type": "execute_result"
    }
   ],
   "source": [
    "\"Hello\".isupper()"
   ]
  },
  {
   "cell_type": "code",
   "execution_count": 28,
   "id": "dbde0b60",
   "metadata": {},
   "outputs": [
    {
     "data": {
      "text/plain": [
       "False"
      ]
     },
     "execution_count": 28,
     "metadata": {},
     "output_type": "execute_result"
    }
   ],
   "source": [
    "'Hello'.islower()"
   ]
  },
  {
   "cell_type": "code",
   "execution_count": 30,
   "id": "caa1a00c",
   "metadata": {},
   "outputs": [
    {
     "data": {
      "text/plain": [
       "True"
      ]
     },
     "execution_count": 30,
     "metadata": {},
     "output_type": "execute_result"
    }
   ],
   "source": [
    "'Hello'.istitle()"
   ]
  },
  {
   "cell_type": "code",
   "execution_count": 34,
   "id": "67867949",
   "metadata": {},
   "outputs": [
    {
     "data": {
      "text/plain": [
       "True"
      ]
     },
     "execution_count": 34,
     "metadata": {},
     "output_type": "execute_result"
    }
   ],
   "source": [
    "\"123\".isdecimal()"
   ]
  },
  {
   "cell_type": "code",
   "execution_count": 35,
   "id": "8c92dc46",
   "metadata": {},
   "outputs": [
    {
     "data": {
      "text/plain": [
       "False"
      ]
     },
     "execution_count": 35,
     "metadata": {},
     "output_type": "execute_result"
    }
   ],
   "source": [
    "\"123.45\".isdecimal()"
   ]
  },
  {
   "cell_type": "markdown",
   "id": "9b77c937",
   "metadata": {},
   "source": [
    "### String Membership\n",
    "1. It checks whether the string is present in the string or not. uses the syntax `in` and `not in`."
   ]
  },
  {
   "cell_type": "code",
   "execution_count": 36,
   "id": "5ae88362",
   "metadata": {},
   "outputs": [
    {
     "data": {
      "text/plain": [
       "True"
      ]
     },
     "execution_count": 36,
     "metadata": {},
     "output_type": "execute_result"
    }
   ],
   "source": [
    "str1=\"Hello World\"\n",
    "\"H\" in str1"
   ]
  },
  {
   "cell_type": "code",
   "execution_count": 37,
   "id": "d351f87d",
   "metadata": {},
   "outputs": [
    {
     "data": {
      "text/plain": [
       "False"
      ]
     },
     "execution_count": 37,
     "metadata": {},
     "output_type": "execute_result"
    }
   ],
   "source": [
    "\"h\" in str1"
   ]
  },
  {
   "cell_type": "code",
   "execution_count": 38,
   "id": "4bf9257d",
   "metadata": {},
   "outputs": [
    {
     "data": {
      "text/plain": [
       "True"
      ]
     },
     "execution_count": 38,
     "metadata": {},
     "output_type": "execute_result"
    }
   ],
   "source": [
    "\"World\" in str1"
   ]
  },
  {
   "cell_type": "code",
   "execution_count": 39,
   "id": "5186a43b",
   "metadata": {},
   "outputs": [
    {
     "data": {
      "text/plain": [
       "False"
      ]
     },
     "execution_count": 39,
     "metadata": {},
     "output_type": "execute_result"
    }
   ],
   "source": [
    "\"o\" not in str1"
   ]
  },
  {
   "cell_type": "markdown",
   "id": "7d093630",
   "metadata": {},
   "source": [
    "### String formatting"
   ]
  },
  {
   "cell_type": "code",
   "execution_count": 41,
   "id": "91065271",
   "metadata": {},
   "outputs": [
    {
     "name": "stdout",
     "output_type": "stream",
     "text": [
      "hello Max,welcome to Python tutorial\n"
     ]
    }
   ],
   "source": [
    "str5=\"hello {name},welcome to {subject} tutorial\".format(name=\"Max\",subject=\"Python\")\n",
    "print(str5)"
   ]
  },
  {
   "cell_type": "code",
   "execution_count": 42,
   "id": "9a2a4abf",
   "metadata": {},
   "outputs": [
    {
     "name": "stdout",
     "output_type": "stream",
     "text": [
      "hello Max,welcome to Python tutorial\n"
     ]
    }
   ],
   "source": [
    "str5=\"hello {0},welcome to {1} tutorial\".format(\"Max\",\"Python\")\n",
    "print(str5)"
   ]
  },
  {
   "cell_type": "code",
   "execution_count": 43,
   "id": "4c4b9067",
   "metadata": {},
   "outputs": [
    {
     "name": "stdout",
     "output_type": "stream",
     "text": [
      "hello Python,welcome to Max tutorial\n"
     ]
    }
   ],
   "source": [
    "str5=\"hello {1},welcome to {0} tutorial\".format(\"Max\",\"Python\")\n",
    "print(str5)"
   ]
  },
  {
   "cell_type": "code",
   "execution_count": 44,
   "id": "b39f88ca",
   "metadata": {},
   "outputs": [
    {
     "name": "stdout",
     "output_type": "stream",
     "text": [
      "hello Max,welcome to Python tutorial\n"
     ]
    }
   ],
   "source": [
    "str5=\"hello {},welcome to {} tutorial\".format(\"Max\",\"Python\")\n",
    "print(str5)"
   ]
  },
  {
   "cell_type": "code",
   "execution_count": 46,
   "id": "d4257661",
   "metadata": {},
   "outputs": [
    {
     "name": "stdout",
     "output_type": "stream",
     "text": [
      "hello max,welcome to tutorial\n"
     ]
    }
   ],
   "source": [
    "str5=\"hello %s,welcome to tutorial\" %'max'\n",
    "print(str5)"
   ]
  },
  {
   "cell_type": "code",
   "execution_count": 47,
   "id": "95937483",
   "metadata": {},
   "outputs": [
    {
     "name": "stdout",
     "output_type": "stream",
     "text": [
      "hello max,welcome to python tutorial\n"
     ]
    }
   ],
   "source": [
    "str5=\"hello %s,welcome to %s tutorial\"%('max','python')\n",
    "print(str5)"
   ]
  },
  {
   "cell_type": "code",
   "execution_count": 49,
   "id": "483e5fdb",
   "metadata": {},
   "outputs": [
    {
     "name": "stdout",
     "output_type": "stream",
     "text": [
      "hello Max,your age is 45\n"
     ]
    }
   ],
   "source": [
    "str5=\"hello %s,your age is %d\"%(\"Max\",45)\n",
    "print(str5)"
   ]
  },
  {
   "cell_type": "code",
   "execution_count": 50,
   "id": "18f2ae5c",
   "metadata": {},
   "outputs": [
    {
     "name": "stdout",
     "output_type": "stream",
     "text": [
      "pi value is 3.14159\n"
     ]
    }
   ],
   "source": [
    "pi=3.141592653589793238\n",
    "print(\"pi value is %1.5f\"%pi)"
   ]
  },
  {
   "cell_type": "code",
   "execution_count": 51,
   "id": "59c4e55c",
   "metadata": {},
   "outputs": [
    {
     "name": "stdout",
     "output_type": "stream",
     "text": [
      "pi value is 3\n"
     ]
    }
   ],
   "source": [
    "pi=3.141592653589793238\n",
    "print(\"pi value is %1.0f\"%pi)"
   ]
  },
  {
   "cell_type": "code",
   "execution_count": 54,
   "id": "693fbd17",
   "metadata": {},
   "outputs": [
    {
     "name": "stdout",
     "output_type": "stream",
     "text": [
      "pi value is 3.141592654\n"
     ]
    }
   ],
   "source": [
    "pi=3.141592653589793238\n",
    "print(\"pi value is %1.9f\"%pi)"
   ]
  },
  {
   "cell_type": "code",
   "execution_count": 56,
   "id": "8857910c",
   "metadata": {},
   "outputs": [
    {
     "name": "stdout",
     "output_type": "stream",
     "text": [
      "the addition of a+b is 44\n"
     ]
    }
   ],
   "source": [
    "a=10\n",
    "b=34\n",
    "print(f\"the addition of a+b is {a+b}\")"
   ]
  },
  {
   "cell_type": "code",
   "execution_count": 58,
   "id": "04b9302b",
   "metadata": {},
   "outputs": [
    {
     "name": "stdout",
     "output_type": "stream",
     "text": [
      "the addition of a^2+b^2 is 1256\n"
     ]
    }
   ],
   "source": [
    "a=10\n",
    "b=34\n",
    "print(f\"the addition of a^2+b^2 is {a**2+b**2}\")"
   ]
  }
 ],
 "metadata": {
  "kernelspec": {
   "display_name": "Python 3 (ipykernel)",
   "language": "python",
   "name": "python3"
  },
  "language_info": {
   "codemirror_mode": {
    "name": "ipython",
    "version": 3
   },
   "file_extension": ".py",
   "mimetype": "text/x-python",
   "name": "python",
   "nbconvert_exporter": "python",
   "pygments_lexer": "ipython3",
   "version": "3.8.8"
  },
  "latex_envs": {
   "LaTeX_envs_menu_present": true,
   "autoclose": false,
   "autocomplete": true,
   "bibliofile": "biblio.bib",
   "cite_by": "apalike",
   "current_citInitial": 1,
   "eqLabelWithNumbers": true,
   "eqNumInitial": 1,
   "hotkeys": {
    "equation": "Ctrl-E",
    "itemize": "Ctrl-I"
   },
   "labels_anchors": false,
   "latex_user_defs": false,
   "report_style_numbering": false,
   "user_envs_cfg": false
  },
  "toc": {
   "base_numbering": 1,
   "nav_menu": {},
   "number_sections": true,
   "sideBar": true,
   "skip_h1_title": false,
   "title_cell": "Table of Contents",
   "title_sidebar": "Contents",
   "toc_cell": false,
   "toc_position": {},
   "toc_section_display": true,
   "toc_window_display": false
  }
 },
 "nbformat": 4,
 "nbformat_minor": 5
}
