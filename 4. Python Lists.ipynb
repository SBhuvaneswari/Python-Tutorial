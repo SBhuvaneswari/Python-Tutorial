{
 "cells": [
  {
   "cell_type": "markdown",
   "id": "11863db5",
   "metadata": {},
   "source": [
    "## Python Lists\n",
    "1. List is a python data structure where we can store multiple values in a single variable using `[]`.\n",
    "2. In list we can store the values of same data type or different datatypes\n",
    "3. values are enclosed within square brackets and separated by commas\n",
    "4. we can create list or tuple or sets or dictionary within list\n",
    "5. tuple, set, dictionary are the other datatypes like list in python\n",
    "6. In this tutorial, we are discussing about how to work on list and its functions.\n",
    "7. lists are mutable and can have duplicate values."
   ]
  },
  {
   "cell_type": "code",
   "execution_count": 11,
   "id": "3c11a19e",
   "metadata": {},
   "outputs": [
    {
     "name": "stdout",
     "output_type": "stream",
     "text": [
      "[1, 2, 3, 4, 5, 6, 7, 8, 9]\n",
      "<class 'list'>\n"
     ]
    }
   ],
   "source": [
    "#creating list\n",
    "list1=[1,2,3,4,5,6,7,8,9]\n",
    "print(list1)\n",
    "print(type(list1))"
   ]
  },
  {
   "cell_type": "code",
   "execution_count": 12,
   "id": "0ccee064",
   "metadata": {},
   "outputs": [
    {
     "name": "stdout",
     "output_type": "stream",
     "text": [
      "Length of the list 9\n",
      "1\n",
      "2\n",
      "3\n",
      "4\n",
      "5\n",
      "6\n",
      "7\n",
      "8\n",
      "9\n",
      "[3, 4, 5, 6, 7]\n",
      "[5, 6, 7, 8, 9]\n",
      "[2, 4, 6, 8]\n",
      "[9, 8, 7, 6, 5, 4, 3, 2, 1]\n"
     ]
    },
    {
     "ename": "IndexError",
     "evalue": "list index out of range",
     "output_type": "error",
     "traceback": [
      "\u001b[1;31m---------------------------------------------------------------------------\u001b[0m",
      "\u001b[1;31mIndexError\u001b[0m                                Traceback (most recent call last)",
      "\u001b[1;32m~\\AppData\\Local\\Temp/ipykernel_15580/4214372324.py\u001b[0m in \u001b[0;36m<module>\u001b[1;34m\u001b[0m\n\u001b[0;32m     16\u001b[0m \u001b[0mprint\u001b[0m\u001b[1;33m(\u001b[0m\u001b[0mlist1\u001b[0m\u001b[1;33m[\u001b[0m\u001b[1;36m1\u001b[0m\u001b[1;33m:\u001b[0m\u001b[1;36m8\u001b[0m\u001b[1;33m:\u001b[0m\u001b[1;36m2\u001b[0m\u001b[1;33m]\u001b[0m\u001b[1;33m)\u001b[0m \u001b[1;31m#slicing using start,stop and step\u001b[0m\u001b[1;33m\u001b[0m\u001b[1;33m\u001b[0m\u001b[0m\n\u001b[0;32m     17\u001b[0m \u001b[0mprint\u001b[0m\u001b[1;33m(\u001b[0m\u001b[0mlist1\u001b[0m\u001b[1;33m[\u001b[0m\u001b[1;33m:\u001b[0m\u001b[1;33m:\u001b[0m\u001b[1;33m-\u001b[0m\u001b[1;36m1\u001b[0m\u001b[1;33m]\u001b[0m\u001b[1;33m)\u001b[0m\u001b[1;33m\u001b[0m\u001b[1;33m\u001b[0m\u001b[0m\n\u001b[1;32m---> 18\u001b[1;33m \u001b[0mprint\u001b[0m\u001b[1;33m(\u001b[0m\u001b[0mlist1\u001b[0m\u001b[1;33m[\u001b[0m\u001b[1;36m9\u001b[0m\u001b[1;33m]\u001b[0m\u001b[1;33m)\u001b[0m\u001b[1;31m#list out of index\u001b[0m\u001b[1;33m\u001b[0m\u001b[1;33m\u001b[0m\u001b[0m\n\u001b[0m",
      "\u001b[1;31mIndexError\u001b[0m: list index out of range"
     ]
    }
   ],
   "source": [
    "#accessing list elements using index\n",
    "#list is zero indexed\n",
    "print(\"Length of the list\",len(list1))\n",
    "print(list1[0])\n",
    "print(list1[1])\n",
    "print(list1[2])\n",
    "print(list1[3])\n",
    "print(list1[4])\n",
    "print(list1[5])\n",
    "print(list1[6])\n",
    "print(list1[7])\n",
    "print(list1[8])\n",
    "#slicing lists\n",
    "print(list1[2:7])\n",
    "print(list1[-5:])\n",
    "print(list1[1:8:2]) #slicing using start,stop and step\n",
    "print(list1[::-1])\n",
    "print(list1[9])#list out of index"
   ]
  },
  {
   "cell_type": "markdown",
   "id": "085778e6",
   "metadata": {},
   "source": [
    "### Adding elements to the list"
   ]
  },
  {
   "cell_type": "code",
   "execution_count": 13,
   "id": "086bcf7b",
   "metadata": {},
   "outputs": [
    {
     "name": "stdout",
     "output_type": "stream",
     "text": [
      "[1, 2, 3, 4, 5, 6, 7, 8, 9]\n"
     ]
    }
   ],
   "source": [
    "print(list1)"
   ]
  },
  {
   "cell_type": "code",
   "execution_count": 14,
   "id": "1a962847",
   "metadata": {},
   "outputs": [
    {
     "name": "stdout",
     "output_type": "stream",
     "text": [
      "[1, 2, 3, 4, 5, 6, 7, 8, 9, 10]\n",
      "[1, 2, 3, 4, 5, 6, 7, 8, 9, 10, 11, 12, 13]\n",
      "[1, 2, 3, 21, 4, 5, 6, 7, 8, 9, 10, 11, 12, 13]\n"
     ]
    }
   ],
   "source": [
    "list1.append(10)#adding single element at the end of the list\n",
    "print(list1)\n",
    "list1.extend([11,12,13])#adding multiple elements at the end of the list. elements can be lists,tuples,dict ad set also\n",
    "print(list1)\n",
    "list1.insert(3,21)#adding elements at the specific index\n",
    "print(list1)"
   ]
  },
  {
   "cell_type": "markdown",
   "id": "1a05334e",
   "metadata": {},
   "source": [
    "### Changing list elements"
   ]
  },
  {
   "cell_type": "code",
   "execution_count": 15,
   "id": "8328665f",
   "metadata": {},
   "outputs": [
    {
     "name": "stdout",
     "output_type": "stream",
     "text": [
      "[1, 2, 3, 22, 4, 5, 6, 7, 8, 9, 10, 11, 12, 13]\n",
      "[1, 2, 3, 22, 4, 34, 56, 7, 8, 9, 10, 11, 12, 13]\n"
     ]
    }
   ],
   "source": [
    "list1[3]=22\n",
    "print(list1)\n",
    "list1[5:7]=[34,56]\n",
    "print(list1)"
   ]
  },
  {
   "cell_type": "markdown",
   "id": "639f8a3c",
   "metadata": {},
   "source": [
    "### Removing elements from the list"
   ]
  },
  {
   "cell_type": "code",
   "execution_count": 16,
   "id": "73166436",
   "metadata": {},
   "outputs": [
    {
     "name": "stdout",
     "output_type": "stream",
     "text": [
      "[1, 2, 3, 4, 34, 56, 7, 8, 9, 10, 11, 12, 13]\n",
      "[1, 2, 3, 4, 34, 56, 7, 9, 10, 11, 12, 13]\n",
      "[2, 3, 4, 34, 56, 7, 9, 10, 11, 12, 13]\n"
     ]
    }
   ],
   "source": [
    "list1.remove(22)#remove the specified element\n",
    "print(list1)\n",
    "list1.pop(7)#remove the element from specified index\n",
    "print(list1)\n",
    "del list1[0]#remove the indexed element usins del\n",
    "print(list1)"
   ]
  },
  {
   "cell_type": "markdown",
   "id": "4c95063c",
   "metadata": {},
   "source": [
    "### Deleting the list"
   ]
  },
  {
   "cell_type": "code",
   "execution_count": 17,
   "id": "1f399a8a",
   "metadata": {},
   "outputs": [
    {
     "name": "stdout",
     "output_type": "stream",
     "text": [
      "[]\n"
     ]
    },
    {
     "ename": "NameError",
     "evalue": "name 'list1' is not defined",
     "output_type": "error",
     "traceback": [
      "\u001b[1;31m---------------------------------------------------------------------------\u001b[0m",
      "\u001b[1;31mNameError\u001b[0m                                 Traceback (most recent call last)",
      "\u001b[1;32m~\\AppData\\Local\\Temp/ipykernel_15580/4155009208.py\u001b[0m in \u001b[0;36m<module>\u001b[1;34m\u001b[0m\n\u001b[0;32m      2\u001b[0m \u001b[0mprint\u001b[0m\u001b[1;33m(\u001b[0m\u001b[0mlist1\u001b[0m\u001b[1;33m)\u001b[0m\u001b[1;33m\u001b[0m\u001b[1;33m\u001b[0m\u001b[0m\n\u001b[0;32m      3\u001b[0m \u001b[1;32mdel\u001b[0m \u001b[0mlist1\u001b[0m \u001b[1;31m#delete the whole list from the memory itself\u001b[0m\u001b[1;33m\u001b[0m\u001b[1;33m\u001b[0m\u001b[0m\n\u001b[1;32m----> 4\u001b[1;33m \u001b[0mprint\u001b[0m\u001b[1;33m(\u001b[0m\u001b[0mlist1\u001b[0m\u001b[1;33m)\u001b[0m\u001b[1;33m\u001b[0m\u001b[1;33m\u001b[0m\u001b[0m\n\u001b[0m",
      "\u001b[1;31mNameError\u001b[0m: name 'list1' is not defined"
     ]
    }
   ],
   "source": [
    "list1.clear() #remove all the elements from the list and becomes empty list\n",
    "print(list1)\n",
    "del list1 #delete the whole list from the memory itself\n",
    "print(list1)"
   ]
  },
  {
   "cell_type": "markdown",
   "id": "a9140d3c",
   "metadata": {},
   "source": [
    "### Sorting the list"
   ]
  },
  {
   "cell_type": "code",
   "execution_count": 19,
   "id": "552b19b7",
   "metadata": {},
   "outputs": [
    {
     "name": "stdout",
     "output_type": "stream",
     "text": [
      "[1, 3, 4, 5, 5, 6, 7, 8, 23.11, 43]\n",
      "[43, 23.11, 8, 7, 6, 5, 5, 4, 3, 1]\n",
      "[1, 3, 4, 5, 5, 6, 7, 8, 23.11, 43]\n"
     ]
    }
   ],
   "source": [
    "list1=[1,4,3,6,5,7,43,8,23.11,5]\n",
    "list1.sort()\n",
    "print(list1)\n",
    "list1.sort(reverse=True)\n",
    "print(list1)\n",
    "list1.reverse() #reverse sorting the list\n",
    "print(list1)"
   ]
  },
  {
   "cell_type": "code",
   "execution_count": 21,
   "id": "64fbbabe",
   "metadata": {},
   "outputs": [
    {
     "name": "stdout",
     "output_type": "stream",
     "text": [
      "['banana', 'kiwi', 'mango', 'orange', 'pineapple']\n",
      "['pineapple', 'orange', 'mango', 'kiwi', 'banana']\n",
      "['banana', 'kiwi', 'mango', 'orange', 'pineapple']\n"
     ]
    }
   ],
   "source": [
    "list2=[\"orange\", \"mango\", \"kiwi\", \"pineapple\", \"banana\"]\n",
    "list2.sort()\n",
    "print(list2)\n",
    "list2.sort(reverse=True)\n",
    "print(list2)\n",
    "list2.reverse()\n",
    "print(list2)"
   ]
  },
  {
   "cell_type": "code",
   "execution_count": 22,
   "id": "c54f85a6",
   "metadata": {},
   "outputs": [
    {
     "ename": "TypeError",
     "evalue": "'<' not supported between instances of 'int' and 'str'",
     "output_type": "error",
     "traceback": [
      "\u001b[1;31m---------------------------------------------------------------------------\u001b[0m",
      "\u001b[1;31mTypeError\u001b[0m                                 Traceback (most recent call last)",
      "\u001b[1;32m~\\AppData\\Local\\Temp/ipykernel_15580/2521639218.py\u001b[0m in \u001b[0;36m<module>\u001b[1;34m\u001b[0m\n\u001b[0;32m      1\u001b[0m \u001b[0mlist3\u001b[0m\u001b[1;33m=\u001b[0m\u001b[1;33m[\u001b[0m\u001b[1;34m\"orange\"\u001b[0m\u001b[1;33m,\u001b[0m \u001b[1;34m\"mango\"\u001b[0m\u001b[1;33m,\u001b[0m \u001b[1;34m\"kiwi\"\u001b[0m\u001b[1;33m,\u001b[0m \u001b[1;34m\"pineapple\"\u001b[0m\u001b[1;33m,\u001b[0m \u001b[1;34m\"banana\"\u001b[0m\u001b[1;33m,\u001b[0m\u001b[1;36m1\u001b[0m\u001b[1;33m,\u001b[0m\u001b[1;36m3\u001b[0m\u001b[1;33m,\u001b[0m\u001b[1;36m5\u001b[0m\u001b[1;33m,\u001b[0m\u001b[1;36m4\u001b[0m\u001b[1;33m,\u001b[0m\u001b[1;36m2\u001b[0m\u001b[1;33m]\u001b[0m\u001b[1;33m\u001b[0m\u001b[1;33m\u001b[0m\u001b[0m\n\u001b[1;32m----> 2\u001b[1;33m \u001b[0mlist3\u001b[0m\u001b[1;33m.\u001b[0m\u001b[0msort\u001b[0m\u001b[1;33m(\u001b[0m\u001b[1;33m)\u001b[0m\u001b[1;33m\u001b[0m\u001b[1;33m\u001b[0m\u001b[0m\n\u001b[0m\u001b[0;32m      3\u001b[0m \u001b[0mprint\u001b[0m\u001b[1;33m(\u001b[0m\u001b[0mlist3\u001b[0m\u001b[1;33m)\u001b[0m\u001b[1;33m\u001b[0m\u001b[1;33m\u001b[0m\u001b[0m\n",
      "\u001b[1;31mTypeError\u001b[0m: '<' not supported between instances of 'int' and 'str'"
     ]
    }
   ],
   "source": [
    "list3=[\"orange\", \"mango\", \"kiwi\", \"pineapple\", \"banana\",1,3,5,4,2]\n",
    "list3.sort()\n",
    "print(list3)"
   ]
  },
  {
   "cell_type": "code",
   "execution_count": 25,
   "id": "66ef8542",
   "metadata": {},
   "outputs": [
    {
     "name": "stdout",
     "output_type": "stream",
     "text": [
      "['Kiwi', 'Orange', 'banana', 'mango', 'pineapple']\n",
      "['banana', 'Kiwi', 'mango', 'Orange', 'pineapple']\n"
     ]
    }
   ],
   "source": [
    "list4=[\"Orange\", \"mango\", \"Kiwi\", \"pineapple\", \"banana\"]#mixed with upper and lower case\n",
    "list4.sort()\n",
    "print(list4)\n",
    "list4.sort(key=str.lower)\n",
    "print(list4)"
   ]
  },
  {
   "cell_type": "markdown",
   "id": "e13b4cd2",
   "metadata": {},
   "source": [
    "### Copying the list"
   ]
  },
  {
   "cell_type": "code",
   "execution_count": 28,
   "id": "b3e47c9f",
   "metadata": {},
   "outputs": [
    {
     "name": "stdout",
     "output_type": "stream",
     "text": [
      "[3, 4, 5, 6, 3, 1, 9]\n",
      "[3, 4, 5, 6, 3, 1, 9]\n",
      "[3, 4, 5, 6, 3, 1, 9]\n",
      "[3, 4, 5, 6, 3, 1, 9]\n"
     ]
    }
   ],
   "source": [
    "list5=[3,4,5,6,3,1,9]\n",
    "print(list5)\n",
    "list6=list5\n",
    "print(list6)\n",
    "list7=list6.copy()\n",
    "print(list7)\n",
    "list8=list(list7)\n",
    "print(list8)"
   ]
  },
  {
   "cell_type": "markdown",
   "id": "bb710d20",
   "metadata": {},
   "source": [
    "### Joining two lists"
   ]
  },
  {
   "cell_type": "code",
   "execution_count": 32,
   "id": "568134bf",
   "metadata": {},
   "outputs": [
    {
     "name": "stdout",
     "output_type": "stream",
     "text": [
      "[3, 4, 5, 6, 3, 1, 9, 3, 4, 5, 6, 3, 1, 9]\n"
     ]
    }
   ],
   "source": [
    "list9=list7+list8\n",
    "print(list9)\n",
    "#you can use extend and append also to join the list with another list"
   ]
  },
  {
   "cell_type": "markdown",
   "id": "4dd33257",
   "metadata": {},
   "source": [
    "### Counting the number of occurences of an element in the list"
   ]
  },
  {
   "cell_type": "code",
   "execution_count": 34,
   "id": "2171fbe9",
   "metadata": {},
   "outputs": [
    {
     "name": "stdout",
     "output_type": "stream",
     "text": [
      "4\n",
      "2\n",
      "0\n"
     ]
    }
   ],
   "source": [
    "print(list9.count(3))\n",
    "print(list9.count(9))\n",
    "print(list9.count(12))"
   ]
  },
  {
   "cell_type": "markdown",
   "id": "355bd848",
   "metadata": {},
   "source": [
    "## List comprehensions:"
   ]
  },
  {
   "cell_type": "code",
   "execution_count": 35,
   "id": "a5884563",
   "metadata": {},
   "outputs": [
    {
     "name": "stdout",
     "output_type": "stream",
     "text": [
      "[1, 4, 9, 16, 25, 36, 49, 64, 81, 100]\n"
     ]
    }
   ],
   "source": [
    "squares=[] #creating an empty list\n",
    "for i in range(1,11):\n",
    "    squares.append(i**2) #appending the values to the list \n",
    "print(squares)"
   ]
  },
  {
   "cell_type": "code",
   "execution_count": 36,
   "id": "444b36f4",
   "metadata": {},
   "outputs": [
    {
     "name": "stdout",
     "output_type": "stream",
     "text": [
      "[1, 8, 27, 64, 125, 216, 343, 512, 729, 1000]\n"
     ]
    }
   ],
   "source": [
    "'''\n",
    "the above program can be done in single using list comprehension\n",
    "syntax:\n",
    "listname = [(expression) for (value) in (collections) if condition]\n",
    "'''\n",
    "cube = [x**3 for x in range(1,11)]\n",
    "print(cube)"
   ]
  },
  {
   "cell_type": "code",
   "execution_count": 37,
   "id": "8b3dc977",
   "metadata": {},
   "outputs": [
    {
     "name": "stdout",
     "output_type": "stream",
     "text": [
      "[1, 3, 5, 7, 9, 11, 13, 15, 17, 19]\n"
     ]
    }
   ],
   "source": [
    "odd =[x for x in range(1,20) if x%2 != 0]\n",
    "print(odd)"
   ]
  },
  {
   "cell_type": "code",
   "execution_count": 39,
   "id": "96b788ed",
   "metadata": {},
   "outputs": [
    {
     "name": "stdout",
     "output_type": "stream",
     "text": [
      "[2, 4, 6, 8, 10, 12, 14, 16, 18, 20]\n"
     ]
    }
   ],
   "source": [
    "even =[x for x in range(1,21) if x%2 == 0]\n",
    "print(even)"
   ]
  },
  {
   "cell_type": "code",
   "execution_count": 40,
   "id": "b3d95cbf",
   "metadata": {},
   "outputs": [
    {
     "name": "stdout",
     "output_type": "stream",
     "text": [
      "['p', 'y', 't', 'h', 'o', 'n', ' ', 't', 'u', 't', 'o', 'r', 'i', 'a', 'l']\n"
     ]
    }
   ],
   "source": [
    "str1 = [x for x in \"python tutorial\"]\n",
    "print(str1)"
   ]
  },
  {
   "cell_type": "code",
   "execution_count": 50,
   "id": "1b81422d",
   "metadata": {},
   "outputs": [
    {
     "name": "stdout",
     "output_type": "stream",
     "text": [
      "[[0, 1, 2, 3], [0, 1, 2, 3], [0, 1, 2, 3]]\n"
     ]
    }
   ],
   "source": [
    "#nested lists\n",
    "matrix=[]\n",
    "for i in range(3):\n",
    "    matrix.append([])\n",
    "    for j in range(4):\n",
    "        matrix[i].append(j)\n",
    "print(matrix)"
   ]
  },
  {
   "cell_type": "code",
   "execution_count": 51,
   "id": "6fccc7a8",
   "metadata": {},
   "outputs": [
    {
     "name": "stdout",
     "output_type": "stream",
     "text": [
      "[[0, 1, 2, 3], [0, 1, 2, 3], [0, 1, 2, 3]]\n"
     ]
    }
   ],
   "source": [
    "matrix1=[[j for j in range(4)] for i in range(3)]\n",
    "print(matrix1)"
   ]
  }
 ],
 "metadata": {
  "kernelspec": {
   "display_name": "Python 3 (ipykernel)",
   "language": "python",
   "name": "python3"
  },
  "language_info": {
   "codemirror_mode": {
    "name": "ipython",
    "version": 3
   },
   "file_extension": ".py",
   "mimetype": "text/x-python",
   "name": "python",
   "nbconvert_exporter": "python",
   "pygments_lexer": "ipython3",
   "version": "3.8.8"
  },
  "latex_envs": {
   "LaTeX_envs_menu_present": true,
   "autoclose": false,
   "autocomplete": true,
   "bibliofile": "biblio.bib",
   "cite_by": "apalike",
   "current_citInitial": 1,
   "eqLabelWithNumbers": true,
   "eqNumInitial": 1,
   "hotkeys": {
    "equation": "Ctrl-E",
    "itemize": "Ctrl-I"
   },
   "labels_anchors": false,
   "latex_user_defs": false,
   "report_style_numbering": false,
   "user_envs_cfg": false
  },
  "toc": {
   "base_numbering": 1,
   "nav_menu": {},
   "number_sections": true,
   "sideBar": true,
   "skip_h1_title": false,
   "title_cell": "Table of Contents",
   "title_sidebar": "Contents",
   "toc_cell": false,
   "toc_position": {},
   "toc_section_display": true,
   "toc_window_display": false
  }
 },
 "nbformat": 4,
 "nbformat_minor": 5
}
