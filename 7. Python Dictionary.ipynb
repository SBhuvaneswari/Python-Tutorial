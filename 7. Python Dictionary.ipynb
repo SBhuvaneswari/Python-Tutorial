{
 "cells": [
  {
   "cell_type": "markdown",
   "id": "1d98aa31",
   "metadata": {},
   "source": [
    "## Python Dictionary\n",
    "1. It stores values in the key value pair.\n",
    "2. ordered, changeable and do not allow duplicate values"
   ]
  },
  {
   "cell_type": "code",
   "execution_count": 29,
   "id": "53a08c58",
   "metadata": {},
   "outputs": [
    {
     "name": "stdout",
     "output_type": "stream",
     "text": [
      "4\n",
      "<class 'dict'>\n",
      "{'name': 'John', 'age': 45, 'roll_no': 101, 'married': False}\n"
     ]
    }
   ],
   "source": [
    "dict1 = {\n",
    "    'name':'John',\n",
    "    'age':45,\n",
    "    'roll_no':101,\n",
    "    'married':False\n",
    "}\n",
    "print(len(dict1))\n",
    "print(type(dict1))\n",
    "print(dict1)"
   ]
  },
  {
   "cell_type": "code",
   "execution_count": 30,
   "id": "f5b90e64",
   "metadata": {},
   "outputs": [
    {
     "name": "stdout",
     "output_type": "stream",
     "text": [
      "<class 'dict'>\n",
      "{'name': 'MAX', 'age': 34, 'roll_no': 102, 'married': True}\n"
     ]
    }
   ],
   "source": [
    "dict2=dict(name='MAX',age=34,roll_no=102,married=True)\n",
    "print(type(dict2))\n",
    "print(dict2)"
   ]
  },
  {
   "cell_type": "markdown",
   "id": "ac98f400",
   "metadata": {},
   "source": [
    "### Accessing items "
   ]
  },
  {
   "cell_type": "code",
   "execution_count": 31,
   "id": "cf6e1fd6",
   "metadata": {},
   "outputs": [
    {
     "name": "stdout",
     "output_type": "stream",
     "text": [
      "{'name': 'John', 'age': 45, 'roll_no': 101, 'married': False}\n"
     ]
    }
   ],
   "source": [
    "print(dict1)"
   ]
  },
  {
   "cell_type": "code",
   "execution_count": 32,
   "id": "d8476f5e",
   "metadata": {},
   "outputs": [
    {
     "data": {
      "text/plain": [
       "dict_keys(['name', 'age', 'roll_no', 'married'])"
      ]
     },
     "execution_count": 32,
     "metadata": {},
     "output_type": "execute_result"
    }
   ],
   "source": [
    "dict1.keys()"
   ]
  },
  {
   "cell_type": "code",
   "execution_count": 33,
   "id": "284ff510",
   "metadata": {},
   "outputs": [
    {
     "data": {
      "text/plain": [
       "dict_values(['John', 45, 101, False])"
      ]
     },
     "execution_count": 33,
     "metadata": {},
     "output_type": "execute_result"
    }
   ],
   "source": [
    "dict1.values()"
   ]
  },
  {
   "cell_type": "code",
   "execution_count": 34,
   "id": "38b8bcc3",
   "metadata": {},
   "outputs": [
    {
     "data": {
      "text/plain": [
       "dict_items([('name', 'John'), ('age', 45), ('roll_no', 101), ('married', False)])"
      ]
     },
     "execution_count": 34,
     "metadata": {},
     "output_type": "execute_result"
    }
   ],
   "source": [
    "dict1.items()"
   ]
  },
  {
   "cell_type": "code",
   "execution_count": 35,
   "id": "9cb61fde",
   "metadata": {},
   "outputs": [
    {
     "data": {
      "text/plain": [
       "'John'"
      ]
     },
     "execution_count": 35,
     "metadata": {},
     "output_type": "execute_result"
    }
   ],
   "source": [
    "dict1['name']"
   ]
  },
  {
   "cell_type": "code",
   "execution_count": 36,
   "id": "969493a9",
   "metadata": {},
   "outputs": [],
   "source": [
    "dict1['name']='John cena'"
   ]
  },
  {
   "cell_type": "code",
   "execution_count": 37,
   "id": "d1187322",
   "metadata": {},
   "outputs": [
    {
     "name": "stdout",
     "output_type": "stream",
     "text": [
      "{'name': 'John cena', 'age': 45, 'roll_no': 101, 'married': False}\n"
     ]
    }
   ],
   "source": [
    "print(dict1)"
   ]
  },
  {
   "cell_type": "code",
   "execution_count": 38,
   "id": "e55b6554",
   "metadata": {},
   "outputs": [
    {
     "ename": "KeyError",
     "evalue": "'weight'",
     "output_type": "error",
     "traceback": [
      "\u001b[1;31m---------------------------------------------------------------------------\u001b[0m",
      "\u001b[1;31mKeyError\u001b[0m                                  Traceback (most recent call last)",
      "\u001b[1;32m~\\AppData\\Local\\Temp/ipykernel_16160/201342313.py\u001b[0m in \u001b[0;36m<module>\u001b[1;34m\u001b[0m\n\u001b[1;32m----> 1\u001b[1;33m \u001b[0mdict1\u001b[0m\u001b[1;33m[\u001b[0m\u001b[1;34m'weight'\u001b[0m\u001b[1;33m]\u001b[0m\u001b[1;33m\u001b[0m\u001b[1;33m\u001b[0m\u001b[0m\n\u001b[0m",
      "\u001b[1;31mKeyError\u001b[0m: 'weight'"
     ]
    }
   ],
   "source": [
    "dict1['weight']"
   ]
  },
  {
   "cell_type": "code",
   "execution_count": 39,
   "id": "37297c7d",
   "metadata": {},
   "outputs": [
    {
     "name": "stdout",
     "output_type": "stream",
     "text": [
      "yes, the key is present\n"
     ]
    }
   ],
   "source": [
    "#to check whether the key is preset in dictionary\n",
    "if 'name' in dict1:\n",
    "    print(\"yes, the key is present\")"
   ]
  },
  {
   "cell_type": "code",
   "execution_count": 40,
   "id": "d8056527",
   "metadata": {},
   "outputs": [
    {
     "data": {
      "text/plain": [
       "45"
      ]
     },
     "execution_count": 40,
     "metadata": {},
     "output_type": "execute_result"
    }
   ],
   "source": [
    "dict1.get('age') #accessing using get()"
   ]
  },
  {
   "cell_type": "code",
   "execution_count": 41,
   "id": "5843458c",
   "metadata": {},
   "outputs": [
    {
     "name": "stdout",
     "output_type": "stream",
     "text": [
      "{'name': 'John cena', 'age': 20, 'roll_no': 101, 'married': False, 'year': 2021}\n"
     ]
    }
   ],
   "source": [
    "#updating or adding dict elements \n",
    "dict1.update(age=20)\n",
    "dict1.update(year=2021)\n",
    "print(dict1)"
   ]
  },
  {
   "cell_type": "markdown",
   "id": "65936392",
   "metadata": {},
   "source": [
    "### Deleting elements"
   ]
  },
  {
   "cell_type": "code",
   "execution_count": 42,
   "id": "bc094e9f",
   "metadata": {},
   "outputs": [
    {
     "name": "stdout",
     "output_type": "stream",
     "text": [
      "{'name': 'John cena', 'age': 20, 'roll_no': 101, 'married': False, 'year': 2021}\n"
     ]
    }
   ],
   "source": [
    "print(dict1)"
   ]
  },
  {
   "cell_type": "code",
   "execution_count": 43,
   "id": "893092b0",
   "metadata": {},
   "outputs": [
    {
     "name": "stdout",
     "output_type": "stream",
     "text": [
      "{'name': 'John cena', 'age': 20, 'roll_no': 101, 'year': 2021}\n"
     ]
    }
   ],
   "source": [
    "dict1.pop('married')\n",
    "print(dict1)"
   ]
  },
  {
   "cell_type": "code",
   "execution_count": 44,
   "id": "68e9efb9",
   "metadata": {},
   "outputs": [
    {
     "name": "stdout",
     "output_type": "stream",
     "text": [
      "{'name': 'John cena', 'age': 20, 'roll_no': 101}\n"
     ]
    }
   ],
   "source": [
    "#pop the last item\n",
    "dict1.popitem()\n",
    "print(dict1)"
   ]
  },
  {
   "cell_type": "code",
   "execution_count": 45,
   "id": "e37f0b00",
   "metadata": {},
   "outputs": [
    {
     "name": "stdout",
     "output_type": "stream",
     "text": [
      "{'name': 'John cena', 'roll_no': 101}\n"
     ]
    }
   ],
   "source": [
    "del dict1['age']\n",
    "print(dict1)"
   ]
  },
  {
   "cell_type": "code",
   "execution_count": 46,
   "id": "99a4a3a3",
   "metadata": {},
   "outputs": [
    {
     "name": "stdout",
     "output_type": "stream",
     "text": [
      "{}\n"
     ]
    }
   ],
   "source": [
    "dict1.clear()\n",
    "print(dict1)"
   ]
  },
  {
   "cell_type": "code",
   "execution_count": 47,
   "id": "e9a02286",
   "metadata": {},
   "outputs": [],
   "source": [
    "del dict1"
   ]
  },
  {
   "cell_type": "code",
   "execution_count": 48,
   "id": "daa178f3",
   "metadata": {},
   "outputs": [
    {
     "ename": "NameError",
     "evalue": "name 'dict1' is not defined",
     "output_type": "error",
     "traceback": [
      "\u001b[1;31m---------------------------------------------------------------------------\u001b[0m",
      "\u001b[1;31mNameError\u001b[0m                                 Traceback (most recent call last)",
      "\u001b[1;32m~\\AppData\\Local\\Temp/ipykernel_16160/1762997953.py\u001b[0m in \u001b[0;36m<module>\u001b[1;34m\u001b[0m\n\u001b[1;32m----> 1\u001b[1;33m \u001b[0mprint\u001b[0m\u001b[1;33m(\u001b[0m\u001b[0mdict1\u001b[0m\u001b[1;33m)\u001b[0m\u001b[1;33m\u001b[0m\u001b[1;33m\u001b[0m\u001b[0m\n\u001b[0m",
      "\u001b[1;31mNameError\u001b[0m: name 'dict1' is not defined"
     ]
    }
   ],
   "source": [
    "print(dict1)"
   ]
  },
  {
   "cell_type": "markdown",
   "id": "946f9559",
   "metadata": {},
   "source": [
    "### Looping the dictionary"
   ]
  },
  {
   "cell_type": "code",
   "execution_count": 49,
   "id": "9f053c47",
   "metadata": {},
   "outputs": [
    {
     "name": "stdout",
     "output_type": "stream",
     "text": [
      "{'name': 'MAX', 'age': 34, 'roll_no': 102, 'married': True}\n"
     ]
    }
   ],
   "source": [
    "print(dict2)"
   ]
  },
  {
   "cell_type": "code",
   "execution_count": 50,
   "id": "f365034b",
   "metadata": {},
   "outputs": [
    {
     "name": "stdout",
     "output_type": "stream",
     "text": [
      "name\n",
      "age\n",
      "roll_no\n",
      "married\n"
     ]
    }
   ],
   "source": [
    "#looping keys\n",
    "for key in dict2:\n",
    "    print(key)"
   ]
  },
  {
   "cell_type": "code",
   "execution_count": 51,
   "id": "8262c123",
   "metadata": {},
   "outputs": [
    {
     "name": "stdout",
     "output_type": "stream",
     "text": [
      "MAX\n",
      "34\n",
      "102\n",
      "True\n"
     ]
    }
   ],
   "source": [
    "#looping values using key\n",
    "for key in dict2:\n",
    "    print(dict2[key])"
   ]
  },
  {
   "cell_type": "code",
   "execution_count": 57,
   "id": "1fae2d99",
   "metadata": {},
   "outputs": [
    {
     "name": "stdout",
     "output_type": "stream",
     "text": [
      "name = MAX\n",
      "age = 34\n",
      "roll_no = 102\n",
      "married = True\n"
     ]
    }
   ],
   "source": [
    "#looping key value pair\n",
    "for key in dict2:\n",
    "    print(key,\"=\",dict2[key])"
   ]
  },
  {
   "cell_type": "code",
   "execution_count": 58,
   "id": "943e1946",
   "metadata": {},
   "outputs": [
    {
     "name": "stdout",
     "output_type": "stream",
     "text": [
      "name MAX\n",
      "age 34\n",
      "roll_no 102\n",
      "married True\n"
     ]
    }
   ],
   "source": [
    "#looping key value pair using items()\n",
    "for key,value in dict2.items():\n",
    "    print(key,value)"
   ]
  },
  {
   "cell_type": "markdown",
   "id": "2022a213",
   "metadata": {},
   "source": [
    "### Copying items"
   ]
  },
  {
   "cell_type": "code",
   "execution_count": 59,
   "id": "d0a5616d",
   "metadata": {},
   "outputs": [
    {
     "name": "stdout",
     "output_type": "stream",
     "text": [
      "{'name': 'MAX', 'age': 34, 'roll_no': 102, 'married': True}\n"
     ]
    }
   ],
   "source": [
    "print(dict2)"
   ]
  },
  {
   "cell_type": "code",
   "execution_count": 60,
   "id": "68b2669e",
   "metadata": {},
   "outputs": [
    {
     "name": "stdout",
     "output_type": "stream",
     "text": [
      "{'name': 'MAX', 'age': 34, 'roll_no': 102, 'married': True}\n"
     ]
    }
   ],
   "source": [
    "dict3=dict2.copy()\n",
    "print(dict3)"
   ]
  },
  {
   "cell_type": "code",
   "execution_count": 61,
   "id": "c47f2143",
   "metadata": {},
   "outputs": [
    {
     "name": "stdout",
     "output_type": "stream",
     "text": [
      "{'name': 'MAX', 'age': 34, 'roll_no': 102, 'married': True}\n"
     ]
    }
   ],
   "source": [
    "dict4=dict(dict2)\n",
    "print(dict4)"
   ]
  },
  {
   "cell_type": "code",
   "execution_count": 62,
   "id": "4c9f3420",
   "metadata": {},
   "outputs": [
    {
     "name": "stdout",
     "output_type": "stream",
     "text": [
      "{'name': 'MAX', 'age': 34, 'roll_no': 102, 'married': True}\n"
     ]
    }
   ],
   "source": [
    "dict5=dict2\n",
    "print(dict5)"
   ]
  },
  {
   "cell_type": "markdown",
   "id": "538e665f",
   "metadata": {},
   "source": [
    "### nested dictionary"
   ]
  },
  {
   "cell_type": "code",
   "execution_count": 66,
   "id": "48f28958",
   "metadata": {},
   "outputs": [
    {
     "name": "stdout",
     "output_type": "stream",
     "text": [
      "{'name': {'first_name': 'John', 'last_name': 'Maxwell'}, 'contact': {'ph_no': 9876543211, 'email': 'xyz@gmail.com'}}\n"
     ]
    }
   ],
   "source": [
    "nest_dict={\n",
    "    'name':\n",
    "    {\n",
    "        'first_name':'John',\n",
    "        'last_name':\"Maxwell\"\n",
    "    },\n",
    "    'contact':\n",
    "    {\n",
    "      'ph_no':9876543211,\n",
    "      'email':'xyz@gmail.com'\n",
    "    }\n",
    "}\n",
    "print(nest_dict)"
   ]
  },
  {
   "cell_type": "code",
   "execution_count": 67,
   "id": "11f3840e",
   "metadata": {},
   "outputs": [
    {
     "data": {
      "text/plain": [
       "{'first_name': 'John', 'last_name': 'Maxwell'}"
      ]
     },
     "execution_count": 67,
     "metadata": {},
     "output_type": "execute_result"
    }
   ],
   "source": [
    "nest_dict['name']"
   ]
  },
  {
   "cell_type": "code",
   "execution_count": 68,
   "id": "9150eec5",
   "metadata": {},
   "outputs": [
    {
     "data": {
      "text/plain": [
       "'John'"
      ]
     },
     "execution_count": 68,
     "metadata": {},
     "output_type": "execute_result"
    }
   ],
   "source": [
    "nest_dict['name']['first_name']"
   ]
  },
  {
   "cell_type": "code",
   "execution_count": 69,
   "id": "e84105a7",
   "metadata": {},
   "outputs": [
    {
     "data": {
      "text/plain": [
       "'xyz@gmail.com'"
      ]
     },
     "execution_count": 69,
     "metadata": {},
     "output_type": "execute_result"
    }
   ],
   "source": [
    "nest_dict['contact']['email']"
   ]
  },
  {
   "cell_type": "code",
   "execution_count": 84,
   "id": "85cfe950",
   "metadata": {},
   "outputs": [
    {
     "name": "stdout",
     "output_type": "stream",
     "text": [
      "**********************************\t\n",
      "\t     name \t\n",
      "**********************************\t\n",
      "dict_keys(['first_name', 'last_name'])\n",
      "dict_values(['John', 'Maxwell'])\n",
      "dict_items([('first_name', 'John'), ('last_name', 'Maxwell')])\n",
      "**********************************\t\n",
      "\t     contact \t\n",
      "**********************************\t\n",
      "dict_keys(['ph_no', 'email'])\n",
      "dict_values([9876543211, 'xyz@gmail.com'])\n",
      "dict_items([('ph_no', 9876543211), ('email', 'xyz@gmail.com')])\n"
     ]
    }
   ],
   "source": [
    "for key in nest_dict:\n",
    "    print(\"**********************************\\t\")\n",
    "    print(\"\\t    \",key,\"\\t\")\n",
    "    print(\"**********************************\\t\")\n",
    "    print(nest_dict[key].keys()) \n",
    "    print(nest_dict[key].values()) \n",
    "    print(nest_dict[key].items()) "
   ]
  },
  {
   "cell_type": "code",
   "execution_count": null,
   "id": "8e407705",
   "metadata": {},
   "outputs": [],
   "source": []
  }
 ],
 "metadata": {
  "kernelspec": {
   "display_name": "Python 3 (ipykernel)",
   "language": "python",
   "name": "python3"
  },
  "language_info": {
   "codemirror_mode": {
    "name": "ipython",
    "version": 3
   },
   "file_extension": ".py",
   "mimetype": "text/x-python",
   "name": "python",
   "nbconvert_exporter": "python",
   "pygments_lexer": "ipython3",
   "version": "3.8.8"
  },
  "latex_envs": {
   "LaTeX_envs_menu_present": true,
   "autoclose": false,
   "autocomplete": true,
   "bibliofile": "biblio.bib",
   "cite_by": "apalike",
   "current_citInitial": 1,
   "eqLabelWithNumbers": true,
   "eqNumInitial": 1,
   "hotkeys": {
    "equation": "Ctrl-E",
    "itemize": "Ctrl-I"
   },
   "labels_anchors": false,
   "latex_user_defs": false,
   "report_style_numbering": false,
   "user_envs_cfg": false
  },
  "toc": {
   "base_numbering": 1,
   "nav_menu": {},
   "number_sections": true,
   "sideBar": true,
   "skip_h1_title": false,
   "title_cell": "Table of Contents",
   "title_sidebar": "Contents",
   "toc_cell": false,
   "toc_position": {},
   "toc_section_display": true,
   "toc_window_display": false
  }
 },
 "nbformat": 4,
 "nbformat_minor": 5
}
