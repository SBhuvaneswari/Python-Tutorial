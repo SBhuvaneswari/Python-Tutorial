{
 "cells": [
  {
   "cell_type": "markdown",
   "id": "8a8e4a77",
   "metadata": {},
   "source": [
    "## INTRODUCTION\n",
    "1. Easy to learn, powerful programming language.\n",
    "2. Interpreter language\n",
    "3. Dynamically typed language\n",
    "4. Object oriented language\n",
    "5. General purpose language"
   ]
  },
  {
   "cell_type": "code",
   "execution_count": 1,
   "id": "c4b28f45",
   "metadata": {},
   "outputs": [
    {
     "name": "stdout",
     "output_type": "stream",
     "text": [
      "Hello world!!\n"
     ]
    }
   ],
   "source": [
    "#python first hello world program\n",
    "print (\"Hello world!!\")"
   ]
  },
  {
   "cell_type": "markdown",
   "id": "a3352db2",
   "metadata": {},
   "source": [
    "In the above code, the `print()` is the function whgich takes parameter inside the function. The parameter which is inside the bracket `()` will be printed on the output screen. Here the parameter `\"Hello world!!\"` is a string(sequence of characters) enclosed in quotation. if something is enclosed within the quotes are considered as the string and that will be printed as it is in the output screen. We will discuss about string in the later sections."
   ]
  },
  {
   "cell_type": "markdown",
   "id": "682df129",
   "metadata": {},
   "source": [
    "## PYTHON VARIABLES AND DATATYPES\n",
    "1. Variable name must start with a alphabets or underscore(`_`)\n",
    "2. other than alpabets-`a-z`,number- `0-9` and underscore(`_`), no other symbols are allowed in variable names.\n",
    "3. if the variable name contains two words like `first name`, the spaces are not allowed instead use underscore to separate the words like `first_name`.\n",
    "Example for valid and invalid variable names"
   ]
  },
  {
   "cell_type": "code",
   "execution_count": 6,
   "id": "89060350",
   "metadata": {},
   "outputs": [
    {
     "name": "stdout",
     "output_type": "stream",
     "text": [
      "67\n"
     ]
    }
   ],
   "source": [
    "#valid name\n",
    "age=67\n",
    "print(age)"
   ]
  },
  {
   "cell_type": "code",
   "execution_count": 7,
   "id": "8be2d6c1",
   "metadata": {},
   "outputs": [
    {
     "name": "stdout",
     "output_type": "stream",
     "text": [
      "67\n"
     ]
    }
   ],
   "source": [
    "#valid name\n",
    "_age=67\n",
    "print(_age)"
   ]
  },
  {
   "cell_type": "code",
   "execution_count": 8,
   "id": "a57875f1",
   "metadata": {},
   "outputs": [
    {
     "ename": "SyntaxError",
     "evalue": "invalid syntax (Temp/ipykernel_11680/3889025411.py, line 2)",
     "output_type": "error",
     "traceback": [
      "\u001b[1;36m  File \u001b[1;32m\"C:\\Users\\compro\\AppData\\Local\\Temp/ipykernel_11680/3889025411.py\"\u001b[1;36m, line \u001b[1;32m2\u001b[0m\n\u001b[1;33m    1age=67\u001b[0m\n\u001b[1;37m     ^\u001b[0m\n\u001b[1;31mSyntaxError\u001b[0m\u001b[1;31m:\u001b[0m invalid syntax\n"
     ]
    }
   ],
   "source": [
    "#Invalid name\n",
    "1age=67\n",
    "print(1age)"
   ]
  },
  {
   "cell_type": "code",
   "execution_count": 9,
   "id": "b370d44b",
   "metadata": {},
   "outputs": [
    {
     "ename": "SyntaxError",
     "evalue": "invalid syntax (Temp/ipykernel_11680/3662029877.py, line 2)",
     "output_type": "error",
     "traceback": [
      "\u001b[1;36m  File \u001b[1;32m\"C:\\Users\\compro\\AppData\\Local\\Temp/ipykernel_11680/3662029877.py\"\u001b[1;36m, line \u001b[1;32m2\u001b[0m\n\u001b[1;33m    first name='Arun'\u001b[0m\n\u001b[1;37m          ^\u001b[0m\n\u001b[1;31mSyntaxError\u001b[0m\u001b[1;31m:\u001b[0m invalid syntax\n"
     ]
    }
   ],
   "source": [
    "#Invalid name\n",
    "first name='Arun'\n",
    "print(first name)"
   ]
  },
  {
   "cell_type": "code",
   "execution_count": 10,
   "id": "a7219607",
   "metadata": {},
   "outputs": [
    {
     "name": "stdout",
     "output_type": "stream",
     "text": [
      "Arun\n"
     ]
    }
   ],
   "source": [
    "#valid name\n",
    "first_name='Arun'\n",
    "print(first_name)"
   ]
  },
  {
   "cell_type": "markdown",
   "id": "d2d46ccc",
   "metadata": {},
   "source": [
    "### PYTHON DATATYPES"
   ]
  },
  {
   "cell_type": "code",
   "execution_count": 12,
   "id": "4eb20ee4",
   "metadata": {},
   "outputs": [],
   "source": [
    "#INTEGER\n",
    "age=45\n",
    "#FLOAT\n",
    "weight=55.45\n",
    "#STRING\n",
    "name='Maxwell'\n",
    "#Boolean\n",
    "married=True\n",
    "married=False\n",
    "#complex\n",
    "comp=3+4j\n",
    "#list\n",
    "list1=[1,2,3,4,5]\n",
    "#tuple\n",
    "tuple1=(1,2,3,4,5)\n",
    "#set\n",
    "set1={1,2,3,4,5}\n",
    "#Dictionary\n",
    "dict1={\"name\":\"maxwell\",\"age\":45}"
   ]
  },
  {
   "cell_type": "markdown",
   "id": "e6fb323e",
   "metadata": {},
   "source": [
    "We will discuss about string, list, tuple,set and dictionary in a separate sessions"
   ]
  },
  {
   "cell_type": "markdown",
   "id": "42a00b7b",
   "metadata": {},
   "source": [
    "## PYTHON INPUT AND OUTPUT FUNCTION\n",
    "`input()` is used to get the input or some value from the user. The `input()` usually takes the user input in the string format even you enter integer or float values, it will be considered as a string. We can convert the input to integer, float etc by using the function `int()`,`float()`."
   ]
  },
  {
   "cell_type": "code",
   "execution_count": 19,
   "id": "4894c65b",
   "metadata": {},
   "outputs": [
    {
     "name": "stdout",
     "output_type": "stream",
     "text": [
      "45\n",
      "<class 'str'>\n"
     ]
    }
   ],
   "source": [
    "age=input()\n",
    "print(type(age)) #type() is used to check the datatype of the variable"
   ]
  },
  {
   "cell_type": "code",
   "execution_count": 20,
   "id": "4a170c95",
   "metadata": {},
   "outputs": [
    {
     "name": "stdout",
     "output_type": "stream",
     "text": [
      "56\n",
      "<class 'int'>\n"
     ]
    }
   ],
   "source": [
    "age=int(input())\n",
    "print(type(age))"
   ]
  },
  {
   "cell_type": "code",
   "execution_count": 21,
   "id": "355237b4",
   "metadata": {},
   "outputs": [
    {
     "name": "stdout",
     "output_type": "stream",
     "text": [
      "67\n",
      "<class 'float'>\n"
     ]
    }
   ],
   "source": [
    "age=float(input())\n",
    "print(type(age))"
   ]
  },
  {
   "cell_type": "code",
   "execution_count": 22,
   "id": "dad42dd4",
   "metadata": {},
   "outputs": [
    {
     "name": "stdout",
     "output_type": "stream",
     "text": [
      "Enter your age: 67\n",
      "67\n"
     ]
    }
   ],
   "source": [
    "#passing message to the user in input function\n",
    "age=input(\"Enter your age: \")\n",
    "print(age)"
   ]
  },
  {
   "cell_type": "code",
   "execution_count": 23,
   "id": "980127e8",
   "metadata": {},
   "outputs": [
    {
     "name": "stdout",
     "output_type": "stream",
     "text": [
      "Hello world!!\n",
      "6\n",
      "1+2+3\n",
      "Age of Maxwell is 67\n"
     ]
    }
   ],
   "source": [
    "#printing output to the user using print() function\n",
    "print(\"Hello world!!\")\n",
    "print(1+2+3)\n",
    "print(\"1+2+3\") #if enclosed in quotes, it will be taken as string\n",
    "print(\"Age of Maxwell is\",age)"
   ]
  },
  {
   "cell_type": "markdown",
   "id": "37369260",
   "metadata": {},
   "source": [
    "#### flow control will be discussed with next chapter along with operators."
   ]
  }
 ],
 "metadata": {
  "kernelspec": {
   "display_name": "Python 3 (ipykernel)",
   "language": "python",
   "name": "python3"
  },
  "language_info": {
   "codemirror_mode": {
    "name": "ipython",
    "version": 3
   },
   "file_extension": ".py",
   "mimetype": "text/x-python",
   "name": "python",
   "nbconvert_exporter": "python",
   "pygments_lexer": "ipython3",
   "version": "3.8.8"
  },
  "latex_envs": {
   "LaTeX_envs_menu_present": true,
   "autoclose": false,
   "autocomplete": true,
   "bibliofile": "biblio.bib",
   "cite_by": "apalike",
   "current_citInitial": 1,
   "eqLabelWithNumbers": true,
   "eqNumInitial": 1,
   "hotkeys": {
    "equation": "Ctrl-E",
    "itemize": "Ctrl-I"
   },
   "labels_anchors": false,
   "latex_user_defs": false,
   "report_style_numbering": false,
   "user_envs_cfg": false
  },
  "toc": {
   "base_numbering": 1,
   "nav_menu": {},
   "number_sections": true,
   "sideBar": true,
   "skip_h1_title": false,
   "title_cell": "Table of Contents",
   "title_sidebar": "Contents",
   "toc_cell": false,
   "toc_position": {},
   "toc_section_display": true,
   "toc_window_display": false
  }
 },
 "nbformat": 4,
 "nbformat_minor": 5
}
