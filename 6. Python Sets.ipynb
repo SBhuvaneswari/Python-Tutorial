{
 "cells": [
  {
   "cell_type": "markdown",
   "id": "6f590c5f",
   "metadata": {},
   "source": [
    "## Python Sets\n",
    "1. sets are used to store multiple values using curly brackets `{}`\n",
    "2. It is unchangeable, unordered, and does not allow duplicate values.\n",
    "3. Even though it is unchageable, you can add or remove values."
   ]
  },
  {
   "cell_type": "code",
   "execution_count": 2,
   "id": "95c50fd9",
   "metadata": {},
   "outputs": [
    {
     "name": "stdout",
     "output_type": "stream",
     "text": [
      "11\n",
      "<class 'set'>\n",
      "{1, 2, 3, 4, 5, 6, 9, 11, 43, 22, 23}\n"
     ]
    }
   ],
   "source": [
    "set1 = {1,2,3,4,5,6,9,11,23,43,22}\n",
    "print(len(set1))\n",
    "print(type(set1))\n",
    "print(set1)"
   ]
  },
  {
   "cell_type": "code",
   "execution_count": 3,
   "id": "73bc95c7",
   "metadata": {},
   "outputs": [
    {
     "name": "stdout",
     "output_type": "stream",
     "text": [
      "{1, 2, 3}\n"
     ]
    }
   ],
   "source": [
    "set2 = {1,2,3,1,2}\n",
    "print(set2)"
   ]
  },
  {
   "cell_type": "code",
   "execution_count": 4,
   "id": "db042262",
   "metadata": {},
   "outputs": [
    {
     "name": "stdout",
     "output_type": "stream",
     "text": [
      "<class 'set'>\n",
      "{1, 2, 3, 4, 5, 6, 7, 8, 9}\n"
     ]
    }
   ],
   "source": [
    "set3 = set((1,2,3,5,4,8,7,9,6))\n",
    "print(type(set3))\n",
    "print(set3)"
   ]
  },
  {
   "cell_type": "markdown",
   "id": "47134efd",
   "metadata": {},
   "source": [
    "### Accessing set items:\n",
    "1. you cannot access the set items using index or key\n",
    "2. you can check whether some element present in the set using `in` operator"
   ]
  },
  {
   "cell_type": "code",
   "execution_count": 5,
   "id": "76487f42",
   "metadata": {},
   "outputs": [
    {
     "data": {
      "text/plain": [
       "True"
      ]
     },
     "execution_count": 5,
     "metadata": {},
     "output_type": "execute_result"
    }
   ],
   "source": [
    "3 in set3"
   ]
  },
  {
   "cell_type": "code",
   "execution_count": 7,
   "id": "db8f6672",
   "metadata": {},
   "outputs": [
    {
     "name": "stdout",
     "output_type": "stream",
     "text": [
      "1\t2\t3\t4\t5\t6\t7\t8\t9\t"
     ]
    }
   ],
   "source": [
    "for x in set3:\n",
    "    print(x, end='\\t')"
   ]
  },
  {
   "cell_type": "markdown",
   "id": "c67dab72",
   "metadata": {},
   "source": [
    "### Adding elements to the set"
   ]
  },
  {
   "cell_type": "code",
   "execution_count": 14,
   "id": "d8d2fd9c",
   "metadata": {},
   "outputs": [
    {
     "name": "stdout",
     "output_type": "stream",
     "text": [
      "{'b', 'a', 'f', 'd', 'c'}\n"
     ]
    }
   ],
   "source": [
    "#adding single item\n",
    "set4={\"a\",\"b\",\"c\",\"d\"}\n",
    "set4.add(\"f\")\n",
    "print(set4)"
   ]
  },
  {
   "cell_type": "code",
   "execution_count": 15,
   "id": "8fd9f925",
   "metadata": {},
   "outputs": [
    {
     "name": "stdout",
     "output_type": "stream",
     "text": [
      "{'q', 'b', 'a', 'f', 'd', 'g', 'h', 'c', 'e'}\n"
     ]
    }
   ],
   "source": [
    "#adding a set to the set using update\n",
    "set5={\"e\",\"g\",\"q\",\"h\"}\n",
    "set4.update(set5)\n",
    "print(set4)"
   ]
  },
  {
   "cell_type": "markdown",
   "id": "eb87f378",
   "metadata": {},
   "source": [
    "Using `update()`, you can even use list or other iteratables to the set"
   ]
  },
  {
   "cell_type": "code",
   "execution_count": 16,
   "id": "1f50ae57",
   "metadata": {},
   "outputs": [
    {
     "name": "stdout",
     "output_type": "stream",
     "text": [
      "{1, 2, 3, 4, 'q', 'b', 'a', 'f', 'd', 'g', 'h', 'c', 'e'}\n"
     ]
    }
   ],
   "source": [
    "list1=[1,2,3,4]\n",
    "set4.update(list1)\n",
    "print(set4)"
   ]
  },
  {
   "cell_type": "markdown",
   "id": "9f353815",
   "metadata": {},
   "source": [
    "### Removing item from the set\n",
    "1. remove(item)\n",
    "2. discard(item)\n",
    "3. pop()- will remove last item from the set. since set is unordered, we don't know which is the last element."
   ]
  },
  {
   "cell_type": "code",
   "execution_count": 17,
   "id": "e2b11763",
   "metadata": {},
   "outputs": [
    {
     "name": "stdout",
     "output_type": "stream",
     "text": [
      "{1, 2, 3, 4, 'q', 'b', 'a', 'f', 'd', 'g', 'h', 'c', 'e'}\n"
     ]
    }
   ],
   "source": [
    "print(set4)"
   ]
  },
  {
   "cell_type": "code",
   "execution_count": 18,
   "id": "c7565436",
   "metadata": {},
   "outputs": [
    {
     "name": "stdout",
     "output_type": "stream",
     "text": [
      "{1, 2, 4, 'q', 'b', 'a', 'f', 'd', 'g', 'h', 'c', 'e'}\n",
      "{1, 2, 4, 'q', 'a', 'f', 'd', 'g', 'h', 'c', 'e'}\n",
      "popped element = 1\n",
      "{2, 4, 'q', 'a', 'f', 'd', 'g', 'h', 'c', 'e'}\n"
     ]
    }
   ],
   "source": [
    "set4.remove(3)\n",
    "print(set4)\n",
    "set4.discard(\"b\")\n",
    "print(set4)\n",
    "pop_element=set4.pop()\n",
    "print(f\"popped element = {pop_element}\")\n",
    "print(set4)"
   ]
  },
  {
   "cell_type": "code",
   "execution_count": 19,
   "id": "82ad736d",
   "metadata": {},
   "outputs": [
    {
     "name": "stdout",
     "output_type": "stream",
     "text": [
      "set()\n"
     ]
    }
   ],
   "source": [
    "#empties the set element\n",
    "set4.clear()\n",
    "print(set4)"
   ]
  },
  {
   "cell_type": "code",
   "execution_count": 20,
   "id": "e2490d99",
   "metadata": {},
   "outputs": [
    {
     "ename": "NameError",
     "evalue": "name 'set4' is not defined",
     "output_type": "error",
     "traceback": [
      "\u001b[1;31m---------------------------------------------------------------------------\u001b[0m",
      "\u001b[1;31mNameError\u001b[0m                                 Traceback (most recent call last)",
      "\u001b[1;32m~\\AppData\\Local\\Temp/ipykernel_11736/543187912.py\u001b[0m in \u001b[0;36m<module>\u001b[1;34m\u001b[0m\n\u001b[0;32m      1\u001b[0m \u001b[1;31m#deleting the entire set\u001b[0m\u001b[1;33m\u001b[0m\u001b[1;33m\u001b[0m\u001b[1;33m\u001b[0m\u001b[0m\n\u001b[0;32m      2\u001b[0m \u001b[1;32mdel\u001b[0m \u001b[0mset4\u001b[0m\u001b[1;33m\u001b[0m\u001b[1;33m\u001b[0m\u001b[0m\n\u001b[1;32m----> 3\u001b[1;33m \u001b[0mprint\u001b[0m\u001b[1;33m(\u001b[0m\u001b[0mset4\u001b[0m\u001b[1;33m)\u001b[0m\u001b[1;33m\u001b[0m\u001b[1;33m\u001b[0m\u001b[0m\n\u001b[0m",
      "\u001b[1;31mNameError\u001b[0m: name 'set4' is not defined"
     ]
    }
   ],
   "source": [
    "#deleting the entire set\n",
    "del set4\n",
    "print(set4)"
   ]
  },
  {
   "cell_type": "markdown",
   "id": "3d8559dd",
   "metadata": {},
   "source": [
    "## Set Methods"
   ]
  },
  {
   "cell_type": "markdown",
   "id": "d8dee93b",
   "metadata": {},
   "source": [
    "### Union\n",
    "Join the sets"
   ]
  },
  {
   "cell_type": "code",
   "execution_count": 21,
   "id": "9b6a7bfa",
   "metadata": {},
   "outputs": [
    {
     "name": "stdout",
     "output_type": "stream",
     "text": [
      "{1, 2, 3, 4, 5, 6, 7, 8, 9, 10, 67, 12, 23, 45, 55}\n"
     ]
    }
   ],
   "source": [
    "set4={1,2,3,4,5,6,7,8,9}\n",
    "set5={2,3,4,55,10,12,6,8}\n",
    "set6={3,4,5,6,7,23,45,67}\n",
    "union_set=set4.union(set5,set6)\n",
    "print(union_set)"
   ]
  },
  {
   "cell_type": "code",
   "execution_count": 22,
   "id": "f0db725b",
   "metadata": {},
   "outputs": [
    {
     "name": "stdout",
     "output_type": "stream",
     "text": [
      "{1, 2, 3, 4, 5, 6, 7, 8, 9, 10, 67, 12, 23, 45, 55}\n"
     ]
    }
   ],
   "source": [
    "union_symbol=set4 | set5 | set6 #union using opertaor |\n",
    "print(union_symbol)"
   ]
  },
  {
   "cell_type": "markdown",
   "id": "1f641ca2",
   "metadata": {},
   "source": [
    "### Intersection\n",
    "returns the common values among the set"
   ]
  },
  {
   "cell_type": "code",
   "execution_count": 23,
   "id": "eaa8e9ca",
   "metadata": {},
   "outputs": [
    {
     "name": "stdout",
     "output_type": "stream",
     "text": [
      "{3, 4, 6}\n"
     ]
    }
   ],
   "source": [
    "intersection_set=set4.intersection(set5,set6)\n",
    "print(intersection_set)"
   ]
  },
  {
   "cell_type": "code",
   "execution_count": 24,
   "id": "4553ab86",
   "metadata": {},
   "outputs": [
    {
     "name": "stdout",
     "output_type": "stream",
     "text": [
      "{3, 4, 6}\n"
     ]
    }
   ],
   "source": [
    "intersection_symbol=set4 & set5 & set6 #intersection using opertaor &\n",
    "print(intersection_symbol)"
   ]
  },
  {
   "cell_type": "markdown",
   "id": "45ae5531",
   "metadata": {},
   "source": [
    "### Difference"
   ]
  },
  {
   "cell_type": "code",
   "execution_count": 25,
   "id": "791a4a40",
   "metadata": {},
   "outputs": [
    {
     "name": "stdout",
     "output_type": "stream",
     "text": [
      "{1, 9}\n"
     ]
    }
   ],
   "source": [
    "difference=set4.difference(set5,set6)\n",
    "print(difference)"
   ]
  },
  {
   "cell_type": "code",
   "execution_count": 26,
   "id": "f5455c08",
   "metadata": {},
   "outputs": [
    {
     "name": "stdout",
     "output_type": "stream",
     "text": [
      "{1, 9}\n"
     ]
    }
   ],
   "source": [
    "difference_symbol=set4 - set5 - set6 #difference using opertaor -\n",
    "print(difference_symbol)"
   ]
  },
  {
   "cell_type": "code",
   "execution_count": 28,
   "id": "512cb503",
   "metadata": {},
   "outputs": [
    {
     "name": "stdout",
     "output_type": "stream",
     "text": [
      "{1, 5, 7, 9, 10, 12, 55}\n"
     ]
    }
   ],
   "source": [
    "sym_difference=set4.symmetric_difference(set5)\n",
    "print(sym_difference)"
   ]
  },
  {
   "cell_type": "code",
   "execution_count": 29,
   "id": "6d01376c",
   "metadata": {},
   "outputs": [
    {
     "name": "stdout",
     "output_type": "stream",
     "text": [
      "False\n",
      "True\n"
     ]
    }
   ],
   "source": [
    "#to check there are no common values\n",
    "num1={1,2,3,4,5}\n",
    "num2={3,4,5,6}\n",
    "num3={7,8,9}\n",
    "result=num1.isdisjoint(num2)\n",
    "print(result)\n",
    "result1=num1.isdisjoint(num3)\n",
    "print(result1)"
   ]
  },
  {
   "cell_type": "markdown",
   "id": "52a9fbda",
   "metadata": {},
   "source": [
    "other methods in set are `issubset()`,`intersection_update()`,`difference_update()` etc..."
   ]
  },
  {
   "cell_type": "code",
   "execution_count": null,
   "id": "b82d7fb4",
   "metadata": {},
   "outputs": [],
   "source": []
  }
 ],
 "metadata": {
  "kernelspec": {
   "display_name": "Python 3 (ipykernel)",
   "language": "python",
   "name": "python3"
  },
  "language_info": {
   "codemirror_mode": {
    "name": "ipython",
    "version": 3
   },
   "file_extension": ".py",
   "mimetype": "text/x-python",
   "name": "python",
   "nbconvert_exporter": "python",
   "pygments_lexer": "ipython3",
   "version": "3.8.8"
  },
  "latex_envs": {
   "LaTeX_envs_menu_present": true,
   "autoclose": false,
   "autocomplete": true,
   "bibliofile": "biblio.bib",
   "cite_by": "apalike",
   "current_citInitial": 1,
   "eqLabelWithNumbers": true,
   "eqNumInitial": 1,
   "hotkeys": {
    "equation": "Ctrl-E",
    "itemize": "Ctrl-I"
   },
   "labels_anchors": false,
   "latex_user_defs": false,
   "report_style_numbering": false,
   "user_envs_cfg": false
  },
  "toc": {
   "base_numbering": 1,
   "nav_menu": {},
   "number_sections": true,
   "sideBar": true,
   "skip_h1_title": false,
   "title_cell": "Table of Contents",
   "title_sidebar": "Contents",
   "toc_cell": false,
   "toc_position": {},
   "toc_section_display": true,
   "toc_window_display": false
  }
 },
 "nbformat": 4,
 "nbformat_minor": 5
}
