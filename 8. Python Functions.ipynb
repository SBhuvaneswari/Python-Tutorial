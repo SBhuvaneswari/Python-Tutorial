{
 "cells": [
  {
   "cell_type": "markdown",
   "id": "830cdf04",
   "metadata": {},
   "source": [
    "## Python functions\n",
    "1. functions are block of code which will be executed when it runs.\n",
    "2. it uses the keyword `def`\n",
    "3. example: `def function_name(parameters):`\n",
    "4. we can pass parameters to the function when necessary. There can be more than one parameters."
   ]
  },
  {
   "cell_type": "code",
   "execution_count": 1,
   "id": "bf0ee5ff",
   "metadata": {},
   "outputs": [
    {
     "name": "stdout",
     "output_type": "stream",
     "text": [
      "9\n"
     ]
    }
   ],
   "source": [
    "def add():\n",
    "    print(4+5)\n",
    "add()   "
   ]
  },
  {
   "cell_type": "code",
   "execution_count": 2,
   "id": "0909ea62",
   "metadata": {},
   "outputs": [
    {
     "name": "stdout",
     "output_type": "stream",
     "text": [
      "7\n"
     ]
    }
   ],
   "source": [
    "#function with parameters\n",
    "def add(a,b):\n",
    "    print(a+b)\n",
    "add(3,4)"
   ]
  },
  {
   "cell_type": "code",
   "execution_count": 4,
   "id": "8bfd9b3f",
   "metadata": {},
   "outputs": [
    {
     "name": "stdout",
     "output_type": "stream",
     "text": [
      "6\n"
     ]
    }
   ],
   "source": [
    "def add(a,b,c):\n",
    "    print(a+b+c)\n",
    "add(1,2,3)"
   ]
  },
  {
   "cell_type": "markdown",
   "id": "d9b65b30",
   "metadata": {},
   "source": [
    " * parameters are variables inside the function. if we pass values to the variables like `1,2,3` are called arguments."
   ]
  },
  {
   "cell_type": "markdown",
   "id": "9b98269f",
   "metadata": {},
   "source": [
    "* sometimes if you don't know how many parameters you need for the function, you can use `*` before the argument. it will receive the tuple of arguments."
   ]
  },
  {
   "cell_type": "code",
   "execution_count": 18,
   "id": "eeaced9b",
   "metadata": {},
   "outputs": [
    {
     "name": "stdout",
     "output_type": "stream",
     "text": [
      "10\n"
     ]
    }
   ],
   "source": [
    "#arbitrary arguments\n",
    "def add(*a):\n",
    "    sum=0\n",
    "    for i in range(len(a)+1):\n",
    "        sum+=i\n",
    "    print(sum)\n",
    "add(1,2,3,4)"
   ]
  },
  {
   "cell_type": "code",
   "execution_count": 8,
   "id": "102ce58d",
   "metadata": {},
   "outputs": [
    {
     "name": "stdout",
     "output_type": "stream",
     "text": [
      "john 32\n",
      "ram 34\n"
     ]
    }
   ],
   "source": [
    "#keyword arguments\n",
    "def person(name,age):\n",
    "    print(name,age)\n",
    "person(name=\"john\",age=32)\n",
    "person(age=34,name=\"ram\")"
   ]
  },
  {
   "cell_type": "code",
   "execution_count": 12,
   "id": "b2d5463e",
   "metadata": {},
   "outputs": [
    {
     "name": "stdout",
     "output_type": "stream",
     "text": [
      "john 32\n"
     ]
    }
   ],
   "source": [
    "#arbitrary keyword arguments. will receive the dictionary of arguments\n",
    "def person1(**person):\n",
    "    print(person['name'],person['age'])\n",
    "person1(name = \"john\",age = 32)"
   ]
  },
  {
   "cell_type": "code",
   "execution_count": 13,
   "id": "b325dfd4",
   "metadata": {},
   "outputs": [
    {
     "name": "stdout",
     "output_type": "stream",
     "text": [
      "china\n",
      "India\n",
      "bangladesh\n"
     ]
    }
   ],
   "source": [
    "#default argument\n",
    "def person(country=\"India\"):\n",
    "    print(country)\n",
    "person('china')\n",
    "person()\n",
    "person('bangladesh')"
   ]
  },
  {
   "cell_type": "code",
   "execution_count": 14,
   "id": "9af4e4bb",
   "metadata": {},
   "outputs": [
    {
     "name": "stdout",
     "output_type": "stream",
     "text": [
      "apple\n",
      "orange\n",
      "grapes\n"
     ]
    }
   ],
   "source": [
    "#passing iterables as arguments\n",
    "def list1(list2):\n",
    "    for i in list2:\n",
    "        print(i)\n",
    "fruits=['apple','orange','grapes']\n",
    "list1(fruits)"
   ]
  },
  {
   "cell_type": "code",
   "execution_count": 15,
   "id": "34284bf9",
   "metadata": {},
   "outputs": [
    {
     "name": "stdout",
     "output_type": "stream",
     "text": [
      "3\n"
     ]
    }
   ],
   "source": [
    "#return statement\n",
    "#it will return the value to the function call\n",
    "def add(a,b):\n",
    "    return a+b\n",
    "addition=add(1,2)\n",
    "print(addition)"
   ]
  },
  {
   "cell_type": "markdown",
   "id": "d5d29da8",
   "metadata": {},
   "source": [
    "* frunction definition cannot be empty and for some reason if you want your function definition to be empty. you can use `pass`"
   ]
  },
  {
   "cell_type": "code",
   "execution_count": 16,
   "id": "aa697e15",
   "metadata": {},
   "outputs": [],
   "source": [
    "def add():\n",
    "    pass"
   ]
  },
  {
   "cell_type": "markdown",
   "id": "d3a9a110",
   "metadata": {},
   "source": [
    "### Recursion function:\n",
    "* a function calls itself is a recursion function"
   ]
  },
  {
   "cell_type": "code",
   "execution_count": 19,
   "id": "3b6ed07b",
   "metadata": {},
   "outputs": [
    {
     "name": "stdout",
     "output_type": "stream",
     "text": [
      "120\n"
     ]
    }
   ],
   "source": [
    "def fact(n):\n",
    "    if n==0:\n",
    "        return 1\n",
    "    else:\n",
    "        return n*fact(n-1)\n",
    "print(fact(5))"
   ]
  },
  {
   "cell_type": "markdown",
   "id": "604b277f",
   "metadata": {},
   "source": [
    "### Calculator.py using function"
   ]
  },
  {
   "cell_type": "code",
   "execution_count": 21,
   "id": "ff315a7d",
   "metadata": {},
   "outputs": [
    {
     "name": "stdout",
     "output_type": "stream",
     "text": [
      "3\n",
      "4\n",
      "choose +,-,*,/,%*\n",
      "12\n"
     ]
    }
   ],
   "source": [
    "def add(a,b):\n",
    "    return a+b\n",
    "def sub(a,b):\n",
    "    return a-b\n",
    "def multiply(a,b):\n",
    "    return a*b\n",
    "def division(a,b):\n",
    "    if b!=0:\n",
    "        return a/b\n",
    "    else:\n",
    "        print(\"divison error\")\n",
    "def modulo_division(a,b):\n",
    "    if b!=0:\n",
    "        return a%b\n",
    "    else:\n",
    "        print(\"divison error\")\n",
    "\n",
    "#user input\n",
    "number1=int(input())\n",
    "number2=int(input())\n",
    "calculate=input(\"choose +,-,*,/,%\")\n",
    "if calculate==\"+\":\n",
    "    print(add(number1,number2))\n",
    "elif calculate==\"-\":\n",
    "    print(sub(number1,number2))\n",
    "elif calculate==\"*\":\n",
    "    print(multiply(number1,number2))\n",
    "elif calculate==\"/\":\n",
    "    print(division(number1,number2))\n",
    "elif calculate==\"%\":\n",
    "    print(modulo_division(number1,number2))\n"
   ]
  },
  {
   "cell_type": "code",
   "execution_count": null,
   "id": "917f2ac2",
   "metadata": {},
   "outputs": [],
   "source": []
  }
 ],
 "metadata": {
  "kernelspec": {
   "display_name": "Python 3 (ipykernel)",
   "language": "python",
   "name": "python3"
  },
  "language_info": {
   "codemirror_mode": {
    "name": "ipython",
    "version": 3
   },
   "file_extension": ".py",
   "mimetype": "text/x-python",
   "name": "python",
   "nbconvert_exporter": "python",
   "pygments_lexer": "ipython3",
   "version": "3.8.8"
  },
  "latex_envs": {
   "LaTeX_envs_menu_present": true,
   "autoclose": false,
   "autocomplete": true,
   "bibliofile": "biblio.bib",
   "cite_by": "apalike",
   "current_citInitial": 1,
   "eqLabelWithNumbers": true,
   "eqNumInitial": 1,
   "hotkeys": {
    "equation": "Ctrl-E",
    "itemize": "Ctrl-I"
   },
   "labels_anchors": false,
   "latex_user_defs": false,
   "report_style_numbering": false,
   "user_envs_cfg": false
  },
  "toc": {
   "base_numbering": 1,
   "nav_menu": {},
   "number_sections": true,
   "sideBar": true,
   "skip_h1_title": false,
   "title_cell": "Table of Contents",
   "title_sidebar": "Contents",
   "toc_cell": false,
   "toc_position": {},
   "toc_section_display": true,
   "toc_window_display": false
  }
 },
 "nbformat": 4,
 "nbformat_minor": 5
}
