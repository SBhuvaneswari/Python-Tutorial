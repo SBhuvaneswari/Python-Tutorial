{
 "cells": [
  {
   "cell_type": "markdown",
   "id": "e6bb3c55",
   "metadata": {},
   "source": [
    "## Python Tuples\n",
    "1. stores multiple values in one variable\n",
    "2. immutable- cannot change the values once declared like adding or removing values.\n",
    "3. ordered- zero inndexed\n",
    "4. uses rounf brackets `()`\n",
    "5. duplicate values are allowed\n",
    "6. can store data with same datatype or different datatype"
   ]
  },
  {
   "cell_type": "code",
   "execution_count": 1,
   "id": "88bdc31e",
   "metadata": {},
   "outputs": [
    {
     "name": "stdout",
     "output_type": "stream",
     "text": [
      "7\n",
      "7\n",
      "<class 'tuple'>\n",
      "<class 'tuple'>\n"
     ]
    }
   ],
   "source": [
    "tuple1=(1,2,3,4,5,6,7)\n",
    "tuple2=(1,2,3,'a','b',3.45,True)\n",
    "print(len(tuple1))\n",
    "print(len(tuple2))\n",
    "print(type(tuple1))\n",
    "print(type(tuple2))"
   ]
  },
  {
   "cell_type": "code",
   "execution_count": 2,
   "id": "50f12c71",
   "metadata": {},
   "outputs": [
    {
     "name": "stdout",
     "output_type": "stream",
     "text": [
      "1 <class 'int'>\n",
      "2 <class 'int'>\n",
      "3 <class 'int'>\n",
      "a <class 'str'>\n",
      "b <class 'str'>\n",
      "3.45 <class 'float'>\n",
      "True <class 'bool'>\n"
     ]
    }
   ],
   "source": [
    "for i in tuple2:\n",
    "    print(i, type(i))"
   ]
  },
  {
   "cell_type": "markdown",
   "id": "2b3c6897",
   "metadata": {},
   "source": [
    "### Accessing tuple "
   ]
  },
  {
   "cell_type": "code",
   "execution_count": 6,
   "id": "bfea38e5",
   "metadata": {},
   "outputs": [
    {
     "name": "stdout",
     "output_type": "stream",
     "text": [
      "values= 1 index= 0\n",
      "values= 2 index= 1\n",
      "values= 3 index= 2\n",
      "values= 4 index= 3\n",
      "values= 5 index= 4\n",
      "values= 6 index= 5\n",
      "values= 7 index= 6\n"
     ]
    }
   ],
   "source": [
    "for i in range(len(tuple1)):\n",
    "    print('values=',tuple1[i],'index=',i)"
   ]
  },
  {
   "cell_type": "code",
   "execution_count": 7,
   "id": "f49ee9f9",
   "metadata": {},
   "outputs": [
    {
     "name": "stdout",
     "output_type": "stream",
     "text": [
      "values= 1 index= 0\n",
      "values= 2 index= 1\n",
      "values= 3 index= 2\n",
      "values= a index= 3\n",
      "values= b index= 4\n",
      "values= 3.45 index= 5\n",
      "values= True index= 6\n"
     ]
    }
   ],
   "source": [
    "for i in range(len(tuple2)):\n",
    "    print('values=',tuple2[i],'index=',i)"
   ]
  },
  {
   "cell_type": "code",
   "execution_count": 10,
   "id": "4bb1d82b",
   "metadata": {},
   "outputs": [
    {
     "name": "stdout",
     "output_type": "stream",
     "text": [
      "values= 7 index= 6\n",
      "values= 6 index= 5\n",
      "values= 5 index= 4\n",
      "values= 4 index= 3\n",
      "values= 3 index= 2\n",
      "values= 2 index= 1\n",
      "values= 1 index= 0\n"
     ]
    }
   ],
   "source": [
    "#accessing tuples in reverse order\n",
    "for i in range(len(tuple1)-1,-1,-1):\n",
    "    print('values=',tuple1[i],'index=',i)\n",
    "    "
   ]
  },
  {
   "cell_type": "code",
   "execution_count": 14,
   "id": "f1f9a20c",
   "metadata": {},
   "outputs": [
    {
     "name": "stdout",
     "output_type": "stream",
     "text": [
      "values= 7 index= -1\n",
      "values= 6 index= -2\n",
      "values= 5 index= -3\n",
      "values= 4 index= -4\n",
      "values= 3 index= -5\n",
      "values= 2 index= -6\n",
      "values= 1 index= -7\n"
     ]
    }
   ],
   "source": [
    "#accessing values using negative index\n",
    "for i in range(1,len(tuple1)+1,1):\n",
    "    print('values=',tuple1[-i],'index=',-i)"
   ]
  },
  {
   "cell_type": "markdown",
   "id": "0e6d06a3",
   "metadata": {},
   "source": [
    "### Updating tuple values\n",
    "1. i already metioned tuple values cannot be changed.\n",
    "2. so inorder to change the tuple values, one has to change it into `list` using `list()` and change the values like adding or removing the value and again convert it into `tuple` again using `tuple()`"
   ]
  },
  {
   "cell_type": "code",
   "execution_count": 15,
   "id": "eb799414",
   "metadata": {},
   "outputs": [
    {
     "name": "stdout",
     "output_type": "stream",
     "text": [
      "(1, 2, 3, 4, 5, 6, 7)\n"
     ]
    }
   ],
   "source": [
    "print(tuple1)"
   ]
  },
  {
   "cell_type": "code",
   "execution_count": 16,
   "id": "7e5b071b",
   "metadata": {},
   "outputs": [
    {
     "name": "stdout",
     "output_type": "stream",
     "text": [
      "<class 'list'>\n"
     ]
    }
   ],
   "source": [
    "tuple_to_list = list(tuple1)\n",
    "print(type(tuple_to_list))"
   ]
  },
  {
   "cell_type": "code",
   "execution_count": 17,
   "id": "d41abe55",
   "metadata": {},
   "outputs": [
    {
     "name": "stdout",
     "output_type": "stream",
     "text": [
      "[1, 2, 3, 4, 5, 6, 7, 10]\n"
     ]
    }
   ],
   "source": [
    "tuple_to_list.append(10)\n",
    "print(tuple_to_list)"
   ]
  },
  {
   "cell_type": "code",
   "execution_count": 18,
   "id": "8694641e",
   "metadata": {},
   "outputs": [
    {
     "name": "stdout",
     "output_type": "stream",
     "text": [
      "(1, 2, 3, 4, 5, 6, 7, 10)\n",
      "<class 'tuple'>\n"
     ]
    }
   ],
   "source": [
    "tuple1=tuple(tuple_to_list)\n",
    "print(tuple1)\n",
    "print(type(tuple1))"
   ]
  },
  {
   "cell_type": "markdown",
   "id": "c3f1d1da",
   "metadata": {},
   "source": [
    "you can add tuple to tuple if you don't want to use list()."
   ]
  },
  {
   "cell_type": "code",
   "execution_count": 19,
   "id": "5b1354e2",
   "metadata": {},
   "outputs": [
    {
     "name": "stdout",
     "output_type": "stream",
     "text": [
      "(1, 2, 3, 4, 5, 6, 7, 10)\n"
     ]
    }
   ],
   "source": [
    "print(tuple1)"
   ]
  },
  {
   "cell_type": "code",
   "execution_count": 20,
   "id": "b8637d03",
   "metadata": {},
   "outputs": [
    {
     "name": "stdout",
     "output_type": "stream",
     "text": [
      "(1, 2, 3, 4, 5, 6, 7, 10, 11, 12)\n"
     ]
    }
   ],
   "source": [
    "tuple3=(11,12)\n",
    "tuple1+=tuple3\n",
    "print(tuple1)"
   ]
  },
  {
   "cell_type": "markdown",
   "id": "c7c859da",
   "metadata": {},
   "source": [
    "1. you cannot remove the tuple items because tuples are unchangeable but using delete the tuple completely using `del tuplename`\n",
    "2. If you want to remove any tuple values, you can convert it into list and remove the element like we discussed previously"
   ]
  },
  {
   "cell_type": "code",
   "execution_count": 21,
   "id": "ce35cd01",
   "metadata": {},
   "outputs": [
    {
     "ename": "NameError",
     "evalue": "name 'tuple1' is not defined",
     "output_type": "error",
     "traceback": [
      "\u001b[1;31m---------------------------------------------------------------------------\u001b[0m",
      "\u001b[1;31mNameError\u001b[0m                                 Traceback (most recent call last)",
      "\u001b[1;32m~\\AppData\\Local\\Temp/ipykernel_15364/487198053.py\u001b[0m in \u001b[0;36m<module>\u001b[1;34m\u001b[0m\n\u001b[0;32m      1\u001b[0m \u001b[1;32mdel\u001b[0m \u001b[0mtuple1\u001b[0m\u001b[1;33m\u001b[0m\u001b[1;33m\u001b[0m\u001b[0m\n\u001b[1;32m----> 2\u001b[1;33m \u001b[0mprint\u001b[0m \u001b[1;33m(\u001b[0m\u001b[0mtuple1\u001b[0m\u001b[1;33m)\u001b[0m\u001b[1;33m\u001b[0m\u001b[1;33m\u001b[0m\u001b[0m\n\u001b[0m",
      "\u001b[1;31mNameError\u001b[0m: name 'tuple1' is not defined"
     ]
    }
   ],
   "source": [
    "del tuple1\n",
    "print (tuple1)"
   ]
  },
  {
   "cell_type": "code",
   "execution_count": 22,
   "id": "ad7a6021",
   "metadata": {},
   "outputs": [
    {
     "name": "stdout",
     "output_type": "stream",
     "text": [
      "(1, 2, 3, 'a', 'b', 3.45, True)\n"
     ]
    }
   ],
   "source": [
    "print(tuple2)"
   ]
  },
  {
   "cell_type": "code",
   "execution_count": 30,
   "id": "203c3f72",
   "metadata": {},
   "outputs": [
    {
     "data": {
      "text/plain": [
       "6"
      ]
     },
     "execution_count": 30,
     "metadata": {},
     "output_type": "execute_result"
    }
   ],
   "source": [
    "tuple4=(1,2,3,4,54,32,222,2,2,2,2,5,5,577,7,7,1,0,0,4,4,4,4,4)\n",
    "tuple4.count(4)\n",
    "    "
   ]
  },
  {
   "cell_type": "code",
   "execution_count": 31,
   "id": "9abe3952",
   "metadata": {},
   "outputs": [
    {
     "data": {
      "text/plain": [
       "5"
      ]
     },
     "execution_count": 31,
     "metadata": {},
     "output_type": "execute_result"
    }
   ],
   "source": [
    "tuple4.count(2)"
   ]
  },
  {
   "cell_type": "code",
   "execution_count": 34,
   "id": "64b2718b",
   "metadata": {},
   "outputs": [
    {
     "name": "stdout",
     "output_type": "stream",
     "text": [
      "Counter({4: 6, 2: 5, 1: 2, 5: 2, 7: 2, 0: 2, 3: 1, 54: 1, 32: 1, 222: 1, 577: 1})\n"
     ]
    }
   ],
   "source": [
    "from collections import Counter\n",
    "count=Counter(tuple4)\n",
    "\n",
    "print(count)"
   ]
  },
  {
   "cell_type": "code",
   "execution_count": 49,
   "id": "af7e364b",
   "metadata": {},
   "outputs": [
    {
     "name": "stdout",
     "output_type": "stream",
     "text": [
      "count of 1\t= 2\n",
      "count of 2\t= 5\n",
      "count of 3\t= 1\n",
      "count of 4\t= 6\n",
      "count of 54\t= 1\n",
      "count of 32\t= 1\n",
      "count of 222\t= 1\n",
      "count of 5\t= 2\n",
      "count of 577\t= 1\n",
      "count of 7\t= 2\n",
      "count of 0\t= 2\n"
     ]
    }
   ],
   "source": [
    "list1=[]\n",
    "list2=list(tuple4)\n",
    "for i in list2:\n",
    "    if i in list1:\n",
    "        pass\n",
    "    else:\n",
    "        list1.append(i)\n",
    "for i in list1:\n",
    "    print('count of',i,end='\\t')\n",
    "    print('=',list2.count(i))"
   ]
  },
  {
   "cell_type": "code",
   "execution_count": 50,
   "id": "f5952eb4",
   "metadata": {},
   "outputs": [
    {
     "data": {
      "text/plain": [
       "1"
      ]
     },
     "execution_count": 50,
     "metadata": {},
     "output_type": "execute_result"
    }
   ],
   "source": [
    "tuple4.index(2)"
   ]
  },
  {
   "cell_type": "code",
   "execution_count": null,
   "id": "4a04fecd",
   "metadata": {},
   "outputs": [],
   "source": []
  }
 ],
 "metadata": {
  "kernelspec": {
   "display_name": "Python 3 (ipykernel)",
   "language": "python",
   "name": "python3"
  },
  "language_info": {
   "codemirror_mode": {
    "name": "ipython",
    "version": 3
   },
   "file_extension": ".py",
   "mimetype": "text/x-python",
   "name": "python",
   "nbconvert_exporter": "python",
   "pygments_lexer": "ipython3",
   "version": "3.8.8"
  },
  "latex_envs": {
   "LaTeX_envs_menu_present": true,
   "autoclose": false,
   "autocomplete": true,
   "bibliofile": "biblio.bib",
   "cite_by": "apalike",
   "current_citInitial": 1,
   "eqLabelWithNumbers": true,
   "eqNumInitial": 1,
   "hotkeys": {
    "equation": "Ctrl-E",
    "itemize": "Ctrl-I"
   },
   "labels_anchors": false,
   "latex_user_defs": false,
   "report_style_numbering": false,
   "user_envs_cfg": false
  },
  "toc": {
   "base_numbering": 1,
   "nav_menu": {},
   "number_sections": true,
   "sideBar": true,
   "skip_h1_title": false,
   "title_cell": "Table of Contents",
   "title_sidebar": "Contents",
   "toc_cell": false,
   "toc_position": {},
   "toc_section_display": true,
   "toc_window_display": false
  }
 },
 "nbformat": 4,
 "nbformat_minor": 5
}
