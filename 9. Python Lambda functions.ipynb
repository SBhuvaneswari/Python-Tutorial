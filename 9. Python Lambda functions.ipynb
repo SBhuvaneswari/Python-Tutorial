{
 "cells": [
  {
   "cell_type": "markdown",
   "id": "2f834fed",
   "metadata": {},
   "source": [
    "## Python Lambda functions\n",
    "* Lambda functions are anonymous function which means function without name\n",
    "* In the previous class we have used `def` keyword to define the function. Here We are using `lambda` keyword to define the function.\n",
    "* lambda function can take any number of arguments but one expression\n",
    "* syntax: `lambda arguments : expression`\n",
    "* we can use lambda function inside the function\n",
    "* sometimes it reduces the readability of code\n",
    "* It is good for performing short operations and data manipulations"
   ]
  },
  {
   "cell_type": "code",
   "execution_count": 8,
   "id": "150af92d",
   "metadata": {},
   "outputs": [
    {
     "name": "stdout",
     "output_type": "stream",
     "text": [
      "3\n"
     ]
    }
   ],
   "source": [
    "add = lambda a, b: a+b\n",
    "print(add(1,2))"
   ]
  },
  {
   "cell_type": "code",
   "execution_count": 9,
   "id": "0f6cf31a",
   "metadata": {},
   "outputs": [
    {
     "name": "stdout",
     "output_type": "stream",
     "text": [
      "36\n"
     ]
    }
   ],
   "source": [
    "square= lambda a: a**2\n",
    "print(square(6))"
   ]
  },
  {
   "cell_type": "code",
   "execution_count": 10,
   "id": "30dc079b",
   "metadata": {},
   "outputs": [
    {
     "name": "stdout",
     "output_type": "stream",
     "text": [
      "APPLE\n",
      "GRAPES\n"
     ]
    }
   ],
   "source": [
    "str_upper= lambda string: string.upper()\n",
    "print(str_upper(\"apple\"))\n",
    "print(str_upper(\"grapes\"))"
   ]
  },
  {
   "cell_type": "code",
   "execution_count": 13,
   "id": "a27ebdc8",
   "metadata": {},
   "outputs": [
    {
     "name": "stdout",
     "output_type": "stream",
     "text": [
      "50\n",
      "15\n",
      "35\n"
     ]
    }
   ],
   "source": [
    "#lambda inside the function\n",
    "def function(n):\n",
    "    return lambda x: x*n\n",
    "my_lambda=function(5)\n",
    "print(my_lambda(10))\n",
    "print(my_lambda(3))\n",
    "print(my_lambda(7))"
   ]
  },
  {
   "cell_type": "code",
   "execution_count": 4,
   "id": "5355185c",
   "metadata": {},
   "outputs": [
    {
     "data": {
      "text/plain": [
       "[0, 10, 20, 30, 40, 50, 60, 70, 80, 90]"
      ]
     },
     "execution_count": 4,
     "metadata": {},
     "output_type": "execute_result"
    }
   ],
   "source": [
    "'''list1 =[ lambda arg=x: arg*10 for x in range(1,10)]\n",
    "print(list1)\n",
    "for value in list1:\n",
    "    print(value())'''\n",
    "value= lambda x:x*10\n",
    "[value(x) for x in range(10)]"
   ]
  },
  {
   "cell_type": "code",
   "execution_count": 5,
   "id": "1dbbf438",
   "metadata": {},
   "outputs": [
    {
     "name": "stdout",
     "output_type": "stream",
     "text": [
      "7\n"
     ]
    }
   ],
   "source": [
    "#check in lambda\n",
    "maximum= lambda x,y: x if x>y else y\n",
    "print(maximum(7,5))"
   ]
  },
  {
   "cell_type": "code",
   "execution_count": null,
   "id": "f68372fa",
   "metadata": {},
   "outputs": [],
   "source": []
  }
 ],
 "metadata": {
  "kernelspec": {
   "display_name": "Python 3 (ipykernel)",
   "language": "python",
   "name": "python3"
  },
  "language_info": {
   "codemirror_mode": {
    "name": "ipython",
    "version": 3
   },
   "file_extension": ".py",
   "mimetype": "text/x-python",
   "name": "python",
   "nbconvert_exporter": "python",
   "pygments_lexer": "ipython3",
   "version": "3.8.8"
  },
  "latex_envs": {
   "LaTeX_envs_menu_present": true,
   "autoclose": false,
   "autocomplete": true,
   "bibliofile": "biblio.bib",
   "cite_by": "apalike",
   "current_citInitial": 1,
   "eqLabelWithNumbers": true,
   "eqNumInitial": 1,
   "hotkeys": {
    "equation": "Ctrl-E",
    "itemize": "Ctrl-I"
   },
   "labels_anchors": false,
   "latex_user_defs": false,
   "report_style_numbering": false,
   "user_envs_cfg": false
  },
  "toc": {
   "base_numbering": 1,
   "nav_menu": {},
   "number_sections": true,
   "sideBar": true,
   "skip_h1_title": false,
   "title_cell": "Table of Contents",
   "title_sidebar": "Contents",
   "toc_cell": false,
   "toc_position": {},
   "toc_section_display": true,
   "toc_window_display": false
  }
 },
 "nbformat": 4,
 "nbformat_minor": 5
}
